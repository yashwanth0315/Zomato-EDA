{
 "cells": [
  {
   "cell_type": "markdown",
   "id": "departmental-rider",
   "metadata": {
    "papermill": {
     "duration": 0.046208,
     "end_time": "2021-06-01T09:53:41.741748",
     "exception": false,
     "start_time": "2021-06-01T09:53:41.695540",
     "status": "completed"
    },
    "tags": []
   },
   "source": [
    "# **Zomato Data Set Analysis and Visualization**\n"
   ]
  },
  {
   "cell_type": "markdown",
   "id": "defined-valve",
   "metadata": {
    "papermill": {
     "duration": 0.045908,
     "end_time": "2021-06-01T09:53:41.922979",
     "exception": false,
     "start_time": "2021-06-01T09:53:41.877071",
     "status": "completed"
    },
    "tags": []
   },
   "source": [
    "## Importing Libraries"
   ]
  },
  {
   "cell_type": "code",
   "execution_count": 1,
   "id": "brazilian-writer",
   "metadata": {
    "papermill": {
     "duration": 0.859696,
     "end_time": "2021-06-01T09:53:42.829161",
     "exception": false,
     "start_time": "2021-06-01T09:53:41.969465",
     "status": "completed"
    },
    "tags": []
   },
   "outputs": [],
   "source": [
    "import pandas as pd\n",
    "import numpy as np\n",
    "import matplotlib.pyplot as plt\n",
    "import seaborn as sns\n",
    "plt.style.use('dark_background')"
   ]
  },
  {
   "cell_type": "markdown",
   "id": "introductory-bulgaria",
   "metadata": {
    "papermill": {
     "duration": 0.045418,
     "end_time": "2021-06-01T09:53:42.919701",
     "exception": false,
     "start_time": "2021-06-01T09:53:42.874283",
     "status": "completed"
    },
    "tags": []
   },
   "source": [
    "## Reading CSV"
   ]
  },
  {
   "cell_type": "code",
   "execution_count": 34,
   "id": "competent-hurricane",
   "metadata": {
    "papermill": {
     "duration": 11.547733,
     "end_time": "2021-06-01T09:53:54.513435",
     "exception": false,
     "start_time": "2021-06-01T09:53:42.965702",
     "status": "completed"
    },
    "tags": []
   },
   "outputs": [
    {
     "data": {
      "text/html": [
       "<div>\n",
       "<style scoped>\n",
       "    .dataframe tbody tr th:only-of-type {\n",
       "        vertical-align: middle;\n",
       "    }\n",
       "\n",
       "    .dataframe tbody tr th {\n",
       "        vertical-align: top;\n",
       "    }\n",
       "\n",
       "    .dataframe thead th {\n",
       "        text-align: right;\n",
       "    }\n",
       "</style>\n",
       "<table border=\"1\" class=\"dataframe\">\n",
       "  <thead>\n",
       "    <tr style=\"text-align: right;\">\n",
       "      <th></th>\n",
       "      <th>url</th>\n",
       "      <th>address</th>\n",
       "      <th>name</th>\n",
       "      <th>online_order</th>\n",
       "      <th>book_table</th>\n",
       "      <th>rate</th>\n",
       "      <th>votes</th>\n",
       "      <th>phone</th>\n",
       "      <th>location</th>\n",
       "      <th>rest_type</th>\n",
       "      <th>dish_liked</th>\n",
       "      <th>cuisines</th>\n",
       "      <th>approx_cost(for two people)</th>\n",
       "      <th>reviews_list</th>\n",
       "      <th>menu_item</th>\n",
       "      <th>listed_in(type)</th>\n",
       "      <th>listed_in(city)</th>\n",
       "    </tr>\n",
       "  </thead>\n",
       "  <tbody>\n",
       "    <tr>\n",
       "      <th>0</th>\n",
       "      <td>https://www.zomato.com/bangalore/jalsa-banasha...</td>\n",
       "      <td>942, 21st Main Road, 2nd Stage, Banashankari, ...</td>\n",
       "      <td>Jalsa</td>\n",
       "      <td>Yes</td>\n",
       "      <td>Yes</td>\n",
       "      <td>4.1/5</td>\n",
       "      <td>775</td>\n",
       "      <td>080 42297555\\r\\n+91 9743772233</td>\n",
       "      <td>Banashankari</td>\n",
       "      <td>Casual Dining</td>\n",
       "      <td>Pasta, Lunch Buffet, Masala Papad, Paneer Laja...</td>\n",
       "      <td>North Indian, Mughlai, Chinese</td>\n",
       "      <td>800</td>\n",
       "      <td>[('Rated 4.0', 'RATED\\n  A beautiful place to ...</td>\n",
       "      <td>[]</td>\n",
       "      <td>Buffet</td>\n",
       "      <td>Banashankari</td>\n",
       "    </tr>\n",
       "    <tr>\n",
       "      <th>1</th>\n",
       "      <td>https://www.zomato.com/bangalore/spice-elephan...</td>\n",
       "      <td>2nd Floor, 80 Feet Road, Near Big Bazaar, 6th ...</td>\n",
       "      <td>Spice Elephant</td>\n",
       "      <td>Yes</td>\n",
       "      <td>No</td>\n",
       "      <td>4.1/5</td>\n",
       "      <td>787</td>\n",
       "      <td>080 41714161</td>\n",
       "      <td>Banashankari</td>\n",
       "      <td>Casual Dining</td>\n",
       "      <td>Momos, Lunch Buffet, Chocolate Nirvana, Thai G...</td>\n",
       "      <td>Chinese, North Indian, Thai</td>\n",
       "      <td>800</td>\n",
       "      <td>[('Rated 4.0', 'RATED\\n  Had been here for din...</td>\n",
       "      <td>[]</td>\n",
       "      <td>Buffet</td>\n",
       "      <td>Banashankari</td>\n",
       "    </tr>\n",
       "    <tr>\n",
       "      <th>2</th>\n",
       "      <td>https://www.zomato.com/SanchurroBangalore?cont...</td>\n",
       "      <td>1112, Next to KIMS Medical College, 17th Cross...</td>\n",
       "      <td>San Churro Cafe</td>\n",
       "      <td>Yes</td>\n",
       "      <td>No</td>\n",
       "      <td>3.8/5</td>\n",
       "      <td>918</td>\n",
       "      <td>+91 9663487993</td>\n",
       "      <td>Banashankari</td>\n",
       "      <td>Cafe, Casual Dining</td>\n",
       "      <td>Churros, Cannelloni, Minestrone Soup, Hot Choc...</td>\n",
       "      <td>Cafe, Mexican, Italian</td>\n",
       "      <td>800</td>\n",
       "      <td>[('Rated 3.0', \"RATED\\n  Ambience is not that ...</td>\n",
       "      <td>[]</td>\n",
       "      <td>Buffet</td>\n",
       "      <td>Banashankari</td>\n",
       "    </tr>\n",
       "    <tr>\n",
       "      <th>3</th>\n",
       "      <td>https://www.zomato.com/bangalore/addhuri-udupi...</td>\n",
       "      <td>1st Floor, Annakuteera, 3rd Stage, Banashankar...</td>\n",
       "      <td>Addhuri Udupi Bhojana</td>\n",
       "      <td>No</td>\n",
       "      <td>No</td>\n",
       "      <td>3.7/5</td>\n",
       "      <td>88</td>\n",
       "      <td>+91 9620009302</td>\n",
       "      <td>Banashankari</td>\n",
       "      <td>Quick Bites</td>\n",
       "      <td>Masala Dosa</td>\n",
       "      <td>South Indian, North Indian</td>\n",
       "      <td>300</td>\n",
       "      <td>[('Rated 4.0', \"RATED\\n  Great food and proper...</td>\n",
       "      <td>[]</td>\n",
       "      <td>Buffet</td>\n",
       "      <td>Banashankari</td>\n",
       "    </tr>\n",
       "    <tr>\n",
       "      <th>4</th>\n",
       "      <td>https://www.zomato.com/bangalore/grand-village...</td>\n",
       "      <td>10, 3rd Floor, Lakshmi Associates, Gandhi Baza...</td>\n",
       "      <td>Grand Village</td>\n",
       "      <td>No</td>\n",
       "      <td>No</td>\n",
       "      <td>3.8/5</td>\n",
       "      <td>166</td>\n",
       "      <td>+91 8026612447\\r\\n+91 9901210005</td>\n",
       "      <td>Basavanagudi</td>\n",
       "      <td>Casual Dining</td>\n",
       "      <td>Panipuri, Gol Gappe</td>\n",
       "      <td>North Indian, Rajasthani</td>\n",
       "      <td>600</td>\n",
       "      <td>[('Rated 4.0', 'RATED\\n  Very good restaurant ...</td>\n",
       "      <td>[]</td>\n",
       "      <td>Buffet</td>\n",
       "      <td>Banashankari</td>\n",
       "    </tr>\n",
       "  </tbody>\n",
       "</table>\n",
       "</div>"
      ],
      "text/plain": [
       "                                                 url  \\\n",
       "0  https://www.zomato.com/bangalore/jalsa-banasha...   \n",
       "1  https://www.zomato.com/bangalore/spice-elephan...   \n",
       "2  https://www.zomato.com/SanchurroBangalore?cont...   \n",
       "3  https://www.zomato.com/bangalore/addhuri-udupi...   \n",
       "4  https://www.zomato.com/bangalore/grand-village...   \n",
       "\n",
       "                                             address                   name  \\\n",
       "0  942, 21st Main Road, 2nd Stage, Banashankari, ...                  Jalsa   \n",
       "1  2nd Floor, 80 Feet Road, Near Big Bazaar, 6th ...         Spice Elephant   \n",
       "2  1112, Next to KIMS Medical College, 17th Cross...        San Churro Cafe   \n",
       "3  1st Floor, Annakuteera, 3rd Stage, Banashankar...  Addhuri Udupi Bhojana   \n",
       "4  10, 3rd Floor, Lakshmi Associates, Gandhi Baza...          Grand Village   \n",
       "\n",
       "  online_order book_table   rate  votes                             phone  \\\n",
       "0          Yes        Yes  4.1/5    775    080 42297555\\r\\n+91 9743772233   \n",
       "1          Yes         No  4.1/5    787                      080 41714161   \n",
       "2          Yes         No  3.8/5    918                    +91 9663487993   \n",
       "3           No         No  3.7/5     88                    +91 9620009302   \n",
       "4           No         No  3.8/5    166  +91 8026612447\\r\\n+91 9901210005   \n",
       "\n",
       "       location            rest_type  \\\n",
       "0  Banashankari        Casual Dining   \n",
       "1  Banashankari        Casual Dining   \n",
       "2  Banashankari  Cafe, Casual Dining   \n",
       "3  Banashankari          Quick Bites   \n",
       "4  Basavanagudi        Casual Dining   \n",
       "\n",
       "                                          dish_liked  \\\n",
       "0  Pasta, Lunch Buffet, Masala Papad, Paneer Laja...   \n",
       "1  Momos, Lunch Buffet, Chocolate Nirvana, Thai G...   \n",
       "2  Churros, Cannelloni, Minestrone Soup, Hot Choc...   \n",
       "3                                        Masala Dosa   \n",
       "4                                Panipuri, Gol Gappe   \n",
       "\n",
       "                         cuisines approx_cost(for two people)  \\\n",
       "0  North Indian, Mughlai, Chinese                         800   \n",
       "1     Chinese, North Indian, Thai                         800   \n",
       "2          Cafe, Mexican, Italian                         800   \n",
       "3      South Indian, North Indian                         300   \n",
       "4        North Indian, Rajasthani                         600   \n",
       "\n",
       "                                        reviews_list menu_item  \\\n",
       "0  [('Rated 4.0', 'RATED\\n  A beautiful place to ...        []   \n",
       "1  [('Rated 4.0', 'RATED\\n  Had been here for din...        []   \n",
       "2  [('Rated 3.0', \"RATED\\n  Ambience is not that ...        []   \n",
       "3  [('Rated 4.0', \"RATED\\n  Great food and proper...        []   \n",
       "4  [('Rated 4.0', 'RATED\\n  Very good restaurant ...        []   \n",
       "\n",
       "  listed_in(type) listed_in(city)  \n",
       "0          Buffet    Banashankari  \n",
       "1          Buffet    Banashankari  \n",
       "2          Buffet    Banashankari  \n",
       "3          Buffet    Banashankari  \n",
       "4          Buffet    Banashankari  "
      ]
     },
     "execution_count": 34,
     "metadata": {},
     "output_type": "execute_result"
    }
   ],
   "source": [
    "df = pd.read_csv('zomato.csv')\n",
    "df.head()"
   ]
  },
  {
   "cell_type": "code",
   "execution_count": 35,
   "id": "eight-kidney",
   "metadata": {
    "papermill": {
     "duration": 0.053988,
     "end_time": "2021-06-01T09:53:54.613687",
     "exception": false,
     "start_time": "2021-06-01T09:53:54.559699",
     "status": "completed"
    },
    "tags": []
   },
   "outputs": [
    {
     "data": {
      "text/plain": [
       "(51717, 17)"
      ]
     },
     "execution_count": 35,
     "metadata": {},
     "output_type": "execute_result"
    }
   ],
   "source": [
    "df.shape"
   ]
  },
  {
   "cell_type": "code",
   "execution_count": 36,
   "id": "provincial-acquisition",
   "metadata": {
    "papermill": {
     "duration": 0.054816,
     "end_time": "2021-06-01T09:53:54.714745",
     "exception": false,
     "start_time": "2021-06-01T09:53:54.659929",
     "status": "completed"
    },
    "tags": []
   },
   "outputs": [
    {
     "data": {
      "text/plain": [
       "Index(['url', 'address', 'name', 'online_order', 'book_table', 'rate', 'votes',\n",
       "       'phone', 'location', 'rest_type', 'dish_liked', 'cuisines',\n",
       "       'approx_cost(for two people)', 'reviews_list', 'menu_item',\n",
       "       'listed_in(type)', 'listed_in(city)'],\n",
       "      dtype='object')"
      ]
     },
     "execution_count": 36,
     "metadata": {},
     "output_type": "execute_result"
    }
   ],
   "source": [
    "df.columns"
   ]
  },
  {
   "cell_type": "code",
   "execution_count": 37,
   "id": "present-letters",
   "metadata": {
    "papermill": {
     "duration": 0.077255,
     "end_time": "2021-06-01T09:53:54.838751",
     "exception": false,
     "start_time": "2021-06-01T09:53:54.761496",
     "status": "completed"
    },
    "tags": []
   },
   "outputs": [
    {
     "data": {
      "text/html": [
       "<div>\n",
       "<style scoped>\n",
       "    .dataframe tbody tr th:only-of-type {\n",
       "        vertical-align: middle;\n",
       "    }\n",
       "\n",
       "    .dataframe tbody tr th {\n",
       "        vertical-align: top;\n",
       "    }\n",
       "\n",
       "    .dataframe thead th {\n",
       "        text-align: right;\n",
       "    }\n",
       "</style>\n",
       "<table border=\"1\" class=\"dataframe\">\n",
       "  <thead>\n",
       "    <tr style=\"text-align: right;\">\n",
       "      <th></th>\n",
       "      <th>name</th>\n",
       "      <th>online_order</th>\n",
       "      <th>book_table</th>\n",
       "      <th>rate</th>\n",
       "      <th>votes</th>\n",
       "      <th>location</th>\n",
       "      <th>rest_type</th>\n",
       "      <th>cuisines</th>\n",
       "      <th>approx_cost(for two people)</th>\n",
       "      <th>listed_in(type)</th>\n",
       "      <th>listed_in(city)</th>\n",
       "    </tr>\n",
       "  </thead>\n",
       "  <tbody>\n",
       "    <tr>\n",
       "      <th>0</th>\n",
       "      <td>Jalsa</td>\n",
       "      <td>Yes</td>\n",
       "      <td>Yes</td>\n",
       "      <td>4.1/5</td>\n",
       "      <td>775</td>\n",
       "      <td>Banashankari</td>\n",
       "      <td>Casual Dining</td>\n",
       "      <td>North Indian, Mughlai, Chinese</td>\n",
       "      <td>800</td>\n",
       "      <td>Buffet</td>\n",
       "      <td>Banashankari</td>\n",
       "    </tr>\n",
       "    <tr>\n",
       "      <th>1</th>\n",
       "      <td>Spice Elephant</td>\n",
       "      <td>Yes</td>\n",
       "      <td>No</td>\n",
       "      <td>4.1/5</td>\n",
       "      <td>787</td>\n",
       "      <td>Banashankari</td>\n",
       "      <td>Casual Dining</td>\n",
       "      <td>Chinese, North Indian, Thai</td>\n",
       "      <td>800</td>\n",
       "      <td>Buffet</td>\n",
       "      <td>Banashankari</td>\n",
       "    </tr>\n",
       "    <tr>\n",
       "      <th>2</th>\n",
       "      <td>San Churro Cafe</td>\n",
       "      <td>Yes</td>\n",
       "      <td>No</td>\n",
       "      <td>3.8/5</td>\n",
       "      <td>918</td>\n",
       "      <td>Banashankari</td>\n",
       "      <td>Cafe, Casual Dining</td>\n",
       "      <td>Cafe, Mexican, Italian</td>\n",
       "      <td>800</td>\n",
       "      <td>Buffet</td>\n",
       "      <td>Banashankari</td>\n",
       "    </tr>\n",
       "    <tr>\n",
       "      <th>3</th>\n",
       "      <td>Addhuri Udupi Bhojana</td>\n",
       "      <td>No</td>\n",
       "      <td>No</td>\n",
       "      <td>3.7/5</td>\n",
       "      <td>88</td>\n",
       "      <td>Banashankari</td>\n",
       "      <td>Quick Bites</td>\n",
       "      <td>South Indian, North Indian</td>\n",
       "      <td>300</td>\n",
       "      <td>Buffet</td>\n",
       "      <td>Banashankari</td>\n",
       "    </tr>\n",
       "    <tr>\n",
       "      <th>4</th>\n",
       "      <td>Grand Village</td>\n",
       "      <td>No</td>\n",
       "      <td>No</td>\n",
       "      <td>3.8/5</td>\n",
       "      <td>166</td>\n",
       "      <td>Basavanagudi</td>\n",
       "      <td>Casual Dining</td>\n",
       "      <td>North Indian, Rajasthani</td>\n",
       "      <td>600</td>\n",
       "      <td>Buffet</td>\n",
       "      <td>Banashankari</td>\n",
       "    </tr>\n",
       "  </tbody>\n",
       "</table>\n",
       "</div>"
      ],
      "text/plain": [
       "                    name online_order book_table   rate  votes      location  \\\n",
       "0                  Jalsa          Yes        Yes  4.1/5    775  Banashankari   \n",
       "1         Spice Elephant          Yes         No  4.1/5    787  Banashankari   \n",
       "2        San Churro Cafe          Yes         No  3.8/5    918  Banashankari   \n",
       "3  Addhuri Udupi Bhojana           No         No  3.7/5     88  Banashankari   \n",
       "4          Grand Village           No         No  3.8/5    166  Basavanagudi   \n",
       "\n",
       "             rest_type                        cuisines  \\\n",
       "0        Casual Dining  North Indian, Mughlai, Chinese   \n",
       "1        Casual Dining     Chinese, North Indian, Thai   \n",
       "2  Cafe, Casual Dining          Cafe, Mexican, Italian   \n",
       "3          Quick Bites      South Indian, North Indian   \n",
       "4        Casual Dining        North Indian, Rajasthani   \n",
       "\n",
       "  approx_cost(for two people) listed_in(type) listed_in(city)  \n",
       "0                         800          Buffet    Banashankari  \n",
       "1                         800          Buffet    Banashankari  \n",
       "2                         800          Buffet    Banashankari  \n",
       "3                         300          Buffet    Banashankari  \n",
       "4                         600          Buffet    Banashankari  "
      ]
     },
     "execution_count": 37,
     "metadata": {},
     "output_type": "execute_result"
    }
   ],
   "source": [
    "df = df.drop(['url', 'address', 'phone', 'menu_item', 'dish_liked', 'reviews_list'], axis = 1)\n",
    "df.head()"
   ]
  },
  {
   "cell_type": "code",
   "execution_count": 38,
   "id": "cathedral-hundred",
   "metadata": {
    "papermill": {
     "duration": 0.11748,
     "end_time": "2021-06-01T09:53:55.004288",
     "exception": false,
     "start_time": "2021-06-01T09:53:54.886808",
     "status": "completed"
    },
    "tags": []
   },
   "outputs": [
    {
     "name": "stdout",
     "output_type": "stream",
     "text": [
      "<class 'pandas.core.frame.DataFrame'>\n",
      "RangeIndex: 51717 entries, 0 to 51716\n",
      "Data columns (total 11 columns):\n",
      " #   Column                       Non-Null Count  Dtype \n",
      "---  ------                       --------------  ----- \n",
      " 0   name                         51717 non-null  object\n",
      " 1   online_order                 51717 non-null  object\n",
      " 2   book_table                   51717 non-null  object\n",
      " 3   rate                         43942 non-null  object\n",
      " 4   votes                        51717 non-null  int64 \n",
      " 5   location                     51696 non-null  object\n",
      " 6   rest_type                    51490 non-null  object\n",
      " 7   cuisines                     51672 non-null  object\n",
      " 8   approx_cost(for two people)  51371 non-null  object\n",
      " 9   listed_in(type)              51717 non-null  object\n",
      " 10  listed_in(city)              51717 non-null  object\n",
      "dtypes: int64(1), object(10)\n",
      "memory usage: 4.3+ MB\n"
     ]
    }
   ],
   "source": [
    "df.info()"
   ]
  },
  {
   "cell_type": "markdown",
   "id": "improving-provider",
   "metadata": {
    "papermill": {
     "duration": 0.047007,
     "end_time": "2021-06-01T09:53:55.098746",
     "exception": false,
     "start_time": "2021-06-01T09:53:55.051739",
     "status": "completed"
    },
    "tags": []
   },
   "source": [
    "## Dropping Duplicates"
   ]
  },
  {
   "cell_type": "code",
   "execution_count": 39,
   "id": "sticky-organic",
   "metadata": {
    "papermill": {
     "duration": 0.12026,
     "end_time": "2021-06-01T09:53:55.266530",
     "exception": false,
     "start_time": "2021-06-01T09:53:55.146270",
     "status": "completed"
    },
    "tags": []
   },
   "outputs": [
    {
     "data": {
      "text/plain": [
       "(51609, 11)"
      ]
     },
     "execution_count": 39,
     "metadata": {},
     "output_type": "execute_result"
    }
   ],
   "source": [
    "df.drop_duplicates(inplace = True)\n",
    "df.shape"
   ]
  },
  {
   "cell_type": "markdown",
   "id": "constant-specific",
   "metadata": {
    "papermill": {
     "duration": 0.061682,
     "end_time": "2021-06-01T09:53:55.384083",
     "exception": false,
     "start_time": "2021-06-01T09:53:55.322401",
     "status": "completed"
    },
    "tags": []
   },
   "source": [
    "## Cleaning Rate Column"
   ]
  },
  {
   "cell_type": "code",
   "execution_count": 40,
   "id": "interesting-correlation",
   "metadata": {
    "papermill": {
     "duration": 0.061847,
     "end_time": "2021-06-01T09:53:55.496182",
     "exception": false,
     "start_time": "2021-06-01T09:53:55.434335",
     "status": "completed"
    },
    "tags": []
   },
   "outputs": [
    {
     "data": {
      "text/plain": [
       "array(['4.1/5', '3.8/5', '3.7/5', '3.6/5', '4.6/5', '4.0/5', '4.2/5',\n",
       "       '3.9/5', '3.1/5', '3.0/5', '3.2/5', '3.3/5', '2.8/5', '4.4/5',\n",
       "       '4.3/5', 'NEW', '2.9/5', '3.5/5', nan, '2.6/5', '3.8 /5', '3.4/5',\n",
       "       '4.5/5', '2.5/5', '2.7/5', '4.7/5', '2.4/5', '2.2/5', '2.3/5',\n",
       "       '3.4 /5', '-', '3.6 /5', '4.8/5', '3.9 /5', '4.2 /5', '4.0 /5',\n",
       "       '4.1 /5', '3.7 /5', '3.1 /5', '2.9 /5', '3.3 /5', '2.8 /5',\n",
       "       '3.5 /5', '2.7 /5', '2.5 /5', '3.2 /5', '2.6 /5', '4.5 /5',\n",
       "       '4.3 /5', '4.4 /5', '4.9/5', '2.1/5', '2.0/5', '1.8/5', '4.6 /5',\n",
       "       '4.9 /5', '3.0 /5', '4.8 /5', '2.3 /5', '4.7 /5', '2.4 /5',\n",
       "       '2.1 /5', '2.2 /5', '2.0 /5', '1.8 /5'], dtype=object)"
      ]
     },
     "execution_count": 40,
     "metadata": {},
     "output_type": "execute_result"
    }
   ],
   "source": [
    "df['rate'].unique()"
   ]
  },
  {
   "cell_type": "markdown",
   "id": "amateur-nicholas",
   "metadata": {
    "papermill": {
     "duration": 0.047512,
     "end_time": "2021-06-01T09:53:55.590934",
     "exception": false,
     "start_time": "2021-06-01T09:53:55.543422",
     "status": "completed"
    },
    "tags": []
   },
   "source": [
    "## Removing \"NEW\" ,  \"-\" and \"/5\" from Rate Column"
   ]
  },
  {
   "cell_type": "code",
   "execution_count": 41,
   "id": "advisory-patent",
   "metadata": {
    "papermill": {
     "duration": 0.117921,
     "end_time": "2021-06-01T09:53:55.756378",
     "exception": false,
     "start_time": "2021-06-01T09:53:55.638457",
     "status": "completed"
    },
    "tags": []
   },
   "outputs": [
    {
     "data": {
      "text/plain": [
       "0    4.1\n",
       "1    4.1\n",
       "2    3.8\n",
       "3    3.7\n",
       "4    3.8\n",
       "Name: rate, dtype: float64"
      ]
     },
     "execution_count": 41,
     "metadata": {},
     "output_type": "execute_result"
    }
   ],
   "source": [
    "def handlerate(value):\n",
    "    if(value=='NEW' or value=='-'):\n",
    "        return np.nan\n",
    "    else:\n",
    "        value = str(value).split('/')\n",
    "        value = value[0]\n",
    "        return float(value)\n",
    "    \n",
    "df['rate'] = df['rate'].apply(handlerate)\n",
    "df['rate'].head()"
   ]
  },
  {
   "cell_type": "markdown",
   "id": "nearby-compilation",
   "metadata": {
    "papermill": {
     "duration": 0.049129,
     "end_time": "2021-06-01T09:53:55.853771",
     "exception": false,
     "start_time": "2021-06-01T09:53:55.804642",
     "status": "completed"
    },
    "tags": []
   },
   "source": [
    "## Filling Null Values in Rate Column with Mean"
   ]
  },
  {
   "cell_type": "code",
   "execution_count": 42,
   "id": "conscious-chess",
   "metadata": {
    "papermill": {
     "duration": 0.059812,
     "end_time": "2021-06-01T09:53:55.961788",
     "exception": false,
     "start_time": "2021-06-01T09:53:55.901976",
     "status": "completed"
    },
    "tags": []
   },
   "outputs": [
    {
     "name": "stderr",
     "output_type": "stream",
     "text": [
      "C:\\Users\\bogoj\\AppData\\Local\\Temp\\ipykernel_23228\\1687008678.py:1: FutureWarning: A value is trying to be set on a copy of a DataFrame or Series through chained assignment using an inplace method.\n",
      "The behavior will change in pandas 3.0. This inplace method will never work because the intermediate object on which we are setting values always behaves as a copy.\n",
      "\n",
      "For example, when doing 'df[col].method(value, inplace=True)', try using 'df.method({col: value}, inplace=True)' or df[col] = df[col].method(value) instead, to perform the operation inplace on the original object.\n",
      "\n",
      "\n",
      "  df['rate'].fillna(df['rate'].mean(), inplace = True)\n"
     ]
    },
    {
     "data": {
      "text/plain": [
       "np.int64(0)"
      ]
     },
     "execution_count": 42,
     "metadata": {},
     "output_type": "execute_result"
    }
   ],
   "source": [
    "df['rate'].fillna(df['rate'].mean(), inplace = True)\n",
    "df['rate'].isnull().sum()"
   ]
  },
  {
   "cell_type": "code",
   "execution_count": 43,
   "id": "confidential-runner",
   "metadata": {
    "papermill": {
     "duration": 0.105089,
     "end_time": "2021-06-01T09:53:56.115650",
     "exception": false,
     "start_time": "2021-06-01T09:53:56.010561",
     "status": "completed"
    },
    "scrolled": true,
    "tags": []
   },
   "outputs": [
    {
     "name": "stdout",
     "output_type": "stream",
     "text": [
      "<class 'pandas.core.frame.DataFrame'>\n",
      "Index: 51609 entries, 0 to 51716\n",
      "Data columns (total 11 columns):\n",
      " #   Column                       Non-Null Count  Dtype  \n",
      "---  ------                       --------------  -----  \n",
      " 0   name                         51609 non-null  object \n",
      " 1   online_order                 51609 non-null  object \n",
      " 2   book_table                   51609 non-null  object \n",
      " 3   rate                         51609 non-null  float64\n",
      " 4   votes                        51609 non-null  int64  \n",
      " 5   location                     51588 non-null  object \n",
      " 6   rest_type                    51382 non-null  object \n",
      " 7   cuisines                     51564 non-null  object \n",
      " 8   approx_cost(for two people)  51265 non-null  object \n",
      " 9   listed_in(type)              51609 non-null  object \n",
      " 10  listed_in(city)              51609 non-null  object \n",
      "dtypes: float64(1), int64(1), object(9)\n",
      "memory usage: 4.7+ MB\n"
     ]
    }
   ],
   "source": [
    "df.info()"
   ]
  },
  {
   "cell_type": "markdown",
   "id": "declared-wisdom",
   "metadata": {
    "papermill": {
     "duration": 0.048839,
     "end_time": "2021-06-01T09:53:56.214352",
     "exception": false,
     "start_time": "2021-06-01T09:53:56.165513",
     "status": "completed"
    },
    "tags": []
   },
   "source": [
    "## Dropping Null Values"
   ]
  },
  {
   "cell_type": "code",
   "execution_count": 44,
   "id": "sophisticated-cleaners",
   "metadata": {
    "papermill": {
     "duration": 0.135473,
     "end_time": "2021-06-01T09:53:56.398662",
     "exception": false,
     "start_time": "2021-06-01T09:53:56.263189",
     "status": "completed"
    },
    "tags": []
   },
   "outputs": [
    {
     "data": {
      "text/html": [
       "<div>\n",
       "<style scoped>\n",
       "    .dataframe tbody tr th:only-of-type {\n",
       "        vertical-align: middle;\n",
       "    }\n",
       "\n",
       "    .dataframe tbody tr th {\n",
       "        vertical-align: top;\n",
       "    }\n",
       "\n",
       "    .dataframe thead th {\n",
       "        text-align: right;\n",
       "    }\n",
       "</style>\n",
       "<table border=\"1\" class=\"dataframe\">\n",
       "  <thead>\n",
       "    <tr style=\"text-align: right;\">\n",
       "      <th></th>\n",
       "      <th>name</th>\n",
       "      <th>online_order</th>\n",
       "      <th>book_table</th>\n",
       "      <th>rate</th>\n",
       "      <th>votes</th>\n",
       "      <th>location</th>\n",
       "      <th>rest_type</th>\n",
       "      <th>cuisines</th>\n",
       "      <th>approx_cost(for two people)</th>\n",
       "      <th>listed_in(type)</th>\n",
       "      <th>listed_in(city)</th>\n",
       "    </tr>\n",
       "  </thead>\n",
       "  <tbody>\n",
       "    <tr>\n",
       "      <th>0</th>\n",
       "      <td>Jalsa</td>\n",
       "      <td>Yes</td>\n",
       "      <td>Yes</td>\n",
       "      <td>4.1</td>\n",
       "      <td>775</td>\n",
       "      <td>Banashankari</td>\n",
       "      <td>Casual Dining</td>\n",
       "      <td>North Indian, Mughlai, Chinese</td>\n",
       "      <td>800</td>\n",
       "      <td>Buffet</td>\n",
       "      <td>Banashankari</td>\n",
       "    </tr>\n",
       "    <tr>\n",
       "      <th>1</th>\n",
       "      <td>Spice Elephant</td>\n",
       "      <td>Yes</td>\n",
       "      <td>No</td>\n",
       "      <td>4.1</td>\n",
       "      <td>787</td>\n",
       "      <td>Banashankari</td>\n",
       "      <td>Casual Dining</td>\n",
       "      <td>Chinese, North Indian, Thai</td>\n",
       "      <td>800</td>\n",
       "      <td>Buffet</td>\n",
       "      <td>Banashankari</td>\n",
       "    </tr>\n",
       "    <tr>\n",
       "      <th>2</th>\n",
       "      <td>San Churro Cafe</td>\n",
       "      <td>Yes</td>\n",
       "      <td>No</td>\n",
       "      <td>3.8</td>\n",
       "      <td>918</td>\n",
       "      <td>Banashankari</td>\n",
       "      <td>Cafe, Casual Dining</td>\n",
       "      <td>Cafe, Mexican, Italian</td>\n",
       "      <td>800</td>\n",
       "      <td>Buffet</td>\n",
       "      <td>Banashankari</td>\n",
       "    </tr>\n",
       "    <tr>\n",
       "      <th>3</th>\n",
       "      <td>Addhuri Udupi Bhojana</td>\n",
       "      <td>No</td>\n",
       "      <td>No</td>\n",
       "      <td>3.7</td>\n",
       "      <td>88</td>\n",
       "      <td>Banashankari</td>\n",
       "      <td>Quick Bites</td>\n",
       "      <td>South Indian, North Indian</td>\n",
       "      <td>300</td>\n",
       "      <td>Buffet</td>\n",
       "      <td>Banashankari</td>\n",
       "    </tr>\n",
       "    <tr>\n",
       "      <th>4</th>\n",
       "      <td>Grand Village</td>\n",
       "      <td>No</td>\n",
       "      <td>No</td>\n",
       "      <td>3.8</td>\n",
       "      <td>166</td>\n",
       "      <td>Basavanagudi</td>\n",
       "      <td>Casual Dining</td>\n",
       "      <td>North Indian, Rajasthani</td>\n",
       "      <td>600</td>\n",
       "      <td>Buffet</td>\n",
       "      <td>Banashankari</td>\n",
       "    </tr>\n",
       "  </tbody>\n",
       "</table>\n",
       "</div>"
      ],
      "text/plain": [
       "                    name online_order book_table  rate  votes      location  \\\n",
       "0                  Jalsa          Yes        Yes   4.1    775  Banashankari   \n",
       "1         Spice Elephant          Yes         No   4.1    787  Banashankari   \n",
       "2        San Churro Cafe          Yes         No   3.8    918  Banashankari   \n",
       "3  Addhuri Udupi Bhojana           No         No   3.7     88  Banashankari   \n",
       "4          Grand Village           No         No   3.8    166  Basavanagudi   \n",
       "\n",
       "             rest_type                        cuisines  \\\n",
       "0        Casual Dining  North Indian, Mughlai, Chinese   \n",
       "1        Casual Dining     Chinese, North Indian, Thai   \n",
       "2  Cafe, Casual Dining          Cafe, Mexican, Italian   \n",
       "3          Quick Bites      South Indian, North Indian   \n",
       "4        Casual Dining        North Indian, Rajasthani   \n",
       "\n",
       "  approx_cost(for two people) listed_in(type) listed_in(city)  \n",
       "0                         800          Buffet    Banashankari  \n",
       "1                         800          Buffet    Banashankari  \n",
       "2                         800          Buffet    Banashankari  \n",
       "3                         300          Buffet    Banashankari  \n",
       "4                         600          Buffet    Banashankari  "
      ]
     },
     "execution_count": 44,
     "metadata": {},
     "output_type": "execute_result"
    }
   ],
   "source": [
    "df.dropna(inplace = True)\n",
    "df.head()"
   ]
  },
  {
   "cell_type": "code",
   "execution_count": 45,
   "id": "separate-truth",
   "metadata": {
    "papermill": {
     "duration": 0.068853,
     "end_time": "2021-06-01T09:53:56.516506",
     "exception": false,
     "start_time": "2021-06-01T09:53:56.447653",
     "status": "completed"
    },
    "tags": []
   },
   "outputs": [
    {
     "data": {
      "text/html": [
       "<div>\n",
       "<style scoped>\n",
       "    .dataframe tbody tr th:only-of-type {\n",
       "        vertical-align: middle;\n",
       "    }\n",
       "\n",
       "    .dataframe tbody tr th {\n",
       "        vertical-align: top;\n",
       "    }\n",
       "\n",
       "    .dataframe thead th {\n",
       "        text-align: right;\n",
       "    }\n",
       "</style>\n",
       "<table border=\"1\" class=\"dataframe\">\n",
       "  <thead>\n",
       "    <tr style=\"text-align: right;\">\n",
       "      <th></th>\n",
       "      <th>name</th>\n",
       "      <th>online_order</th>\n",
       "      <th>book_table</th>\n",
       "      <th>rate</th>\n",
       "      <th>votes</th>\n",
       "      <th>location</th>\n",
       "      <th>rest_type</th>\n",
       "      <th>cuisines</th>\n",
       "      <th>Cost2plates</th>\n",
       "      <th>Type</th>\n",
       "      <th>listed_in(city)</th>\n",
       "    </tr>\n",
       "  </thead>\n",
       "  <tbody>\n",
       "    <tr>\n",
       "      <th>0</th>\n",
       "      <td>Jalsa</td>\n",
       "      <td>Yes</td>\n",
       "      <td>Yes</td>\n",
       "      <td>4.1</td>\n",
       "      <td>775</td>\n",
       "      <td>Banashankari</td>\n",
       "      <td>Casual Dining</td>\n",
       "      <td>North Indian, Mughlai, Chinese</td>\n",
       "      <td>800</td>\n",
       "      <td>Buffet</td>\n",
       "      <td>Banashankari</td>\n",
       "    </tr>\n",
       "    <tr>\n",
       "      <th>1</th>\n",
       "      <td>Spice Elephant</td>\n",
       "      <td>Yes</td>\n",
       "      <td>No</td>\n",
       "      <td>4.1</td>\n",
       "      <td>787</td>\n",
       "      <td>Banashankari</td>\n",
       "      <td>Casual Dining</td>\n",
       "      <td>Chinese, North Indian, Thai</td>\n",
       "      <td>800</td>\n",
       "      <td>Buffet</td>\n",
       "      <td>Banashankari</td>\n",
       "    </tr>\n",
       "    <tr>\n",
       "      <th>2</th>\n",
       "      <td>San Churro Cafe</td>\n",
       "      <td>Yes</td>\n",
       "      <td>No</td>\n",
       "      <td>3.8</td>\n",
       "      <td>918</td>\n",
       "      <td>Banashankari</td>\n",
       "      <td>Cafe, Casual Dining</td>\n",
       "      <td>Cafe, Mexican, Italian</td>\n",
       "      <td>800</td>\n",
       "      <td>Buffet</td>\n",
       "      <td>Banashankari</td>\n",
       "    </tr>\n",
       "    <tr>\n",
       "      <th>3</th>\n",
       "      <td>Addhuri Udupi Bhojana</td>\n",
       "      <td>No</td>\n",
       "      <td>No</td>\n",
       "      <td>3.7</td>\n",
       "      <td>88</td>\n",
       "      <td>Banashankari</td>\n",
       "      <td>Quick Bites</td>\n",
       "      <td>South Indian, North Indian</td>\n",
       "      <td>300</td>\n",
       "      <td>Buffet</td>\n",
       "      <td>Banashankari</td>\n",
       "    </tr>\n",
       "    <tr>\n",
       "      <th>4</th>\n",
       "      <td>Grand Village</td>\n",
       "      <td>No</td>\n",
       "      <td>No</td>\n",
       "      <td>3.8</td>\n",
       "      <td>166</td>\n",
       "      <td>Basavanagudi</td>\n",
       "      <td>Casual Dining</td>\n",
       "      <td>North Indian, Rajasthani</td>\n",
       "      <td>600</td>\n",
       "      <td>Buffet</td>\n",
       "      <td>Banashankari</td>\n",
       "    </tr>\n",
       "  </tbody>\n",
       "</table>\n",
       "</div>"
      ],
      "text/plain": [
       "                    name online_order book_table  rate  votes      location  \\\n",
       "0                  Jalsa          Yes        Yes   4.1    775  Banashankari   \n",
       "1         Spice Elephant          Yes         No   4.1    787  Banashankari   \n",
       "2        San Churro Cafe          Yes         No   3.8    918  Banashankari   \n",
       "3  Addhuri Udupi Bhojana           No         No   3.7     88  Banashankari   \n",
       "4          Grand Village           No         No   3.8    166  Basavanagudi   \n",
       "\n",
       "             rest_type                        cuisines Cost2plates    Type  \\\n",
       "0        Casual Dining  North Indian, Mughlai, Chinese         800  Buffet   \n",
       "1        Casual Dining     Chinese, North Indian, Thai         800  Buffet   \n",
       "2  Cafe, Casual Dining          Cafe, Mexican, Italian         800  Buffet   \n",
       "3          Quick Bites      South Indian, North Indian         300  Buffet   \n",
       "4        Casual Dining        North Indian, Rajasthani         600  Buffet   \n",
       "\n",
       "  listed_in(city)  \n",
       "0    Banashankari  \n",
       "1    Banashankari  \n",
       "2    Banashankari  \n",
       "3    Banashankari  \n",
       "4    Banashankari  "
      ]
     },
     "execution_count": 45,
     "metadata": {},
     "output_type": "execute_result"
    }
   ],
   "source": [
    "df.rename(columns = {'approx_cost(for two people)':'Cost2plates', 'listed_in(type)':'Type'}, inplace = True)\n",
    "df.head()"
   ]
  },
  {
   "cell_type": "code",
   "execution_count": 46,
   "id": "4df1609e-fb82-474b-a719-ee998a7a0613",
   "metadata": {},
   "outputs": [
    {
     "data": {
      "text/plain": [
       "0               Buffet\n",
       "1               Buffet\n",
       "2               Buffet\n",
       "3               Buffet\n",
       "4               Buffet\n",
       "             ...      \n",
       "51712    Pubs and bars\n",
       "51713    Pubs and bars\n",
       "51714    Pubs and bars\n",
       "51715    Pubs and bars\n",
       "51716    Pubs and bars\n",
       "Name: Type, Length: 51042, dtype: object"
      ]
     },
     "execution_count": 46,
     "metadata": {},
     "output_type": "execute_result"
    }
   ],
   "source": [
    "df['Type']"
   ]
  },
  {
   "cell_type": "code",
   "execution_count": 47,
   "id": "identified-italy",
   "metadata": {
    "papermill": {
     "duration": 0.061784,
     "end_time": "2021-06-01T09:53:56.627500",
     "exception": false,
     "start_time": "2021-06-01T09:53:56.565716",
     "status": "completed"
    },
    "tags": []
   },
   "outputs": [
    {
     "data": {
      "text/plain": [
       "array(['Banashankari', 'Basavanagudi', 'Mysore Road', 'Jayanagar',\n",
       "       'Kumaraswamy Layout', 'Rajarajeshwari Nagar', 'Vijay Nagar',\n",
       "       'Uttarahalli', 'JP Nagar', 'South Bangalore', 'City Market',\n",
       "       'Nagarbhavi', 'Bannerghatta Road', 'BTM', 'Kanakapura Road',\n",
       "       'Bommanahalli', 'CV Raman Nagar', 'Electronic City', 'HSR',\n",
       "       'Marathahalli', 'Wilson Garden', 'Shanti Nagar',\n",
       "       'Koramangala 5th Block', 'Koramangala 8th Block', 'Richmond Road',\n",
       "       'Koramangala 7th Block', 'Jalahalli', 'Koramangala 4th Block',\n",
       "       'Bellandur', 'Sarjapur Road', 'Whitefield', 'East Bangalore',\n",
       "       'Old Airport Road', 'Indiranagar', 'Koramangala 1st Block',\n",
       "       'Frazer Town', 'RT Nagar', 'MG Road', 'Brigade Road',\n",
       "       'Lavelle Road', 'Church Street', 'Ulsoor', 'Residency Road',\n",
       "       'Shivajinagar', 'Infantry Road', 'St. Marks Road',\n",
       "       'Cunningham Road', 'Race Course Road', 'Commercial Street',\n",
       "       'Vasanth Nagar', 'HBR Layout', 'Domlur', 'Ejipura',\n",
       "       'Jeevan Bhima Nagar', 'Old Madras Road', 'Malleshwaram',\n",
       "       'Seshadripuram', 'Kammanahalli', 'Koramangala 6th Block',\n",
       "       'Majestic', 'Langford Town', 'Central Bangalore', 'Sanjay Nagar',\n",
       "       'Brookefield', 'ITPL Main Road, Whitefield',\n",
       "       'Varthur Main Road, Whitefield', 'KR Puram',\n",
       "       'Koramangala 2nd Block', 'Koramangala 3rd Block', 'Koramangala',\n",
       "       'Hosur Road', 'Rajajinagar', 'Banaswadi', 'North Bangalore',\n",
       "       'Nagawara', 'Hennur', 'Kalyan Nagar', 'New BEL Road', 'Jakkur',\n",
       "       'Rammurthy Nagar', 'Thippasandra', 'Kaggadasapura', 'Hebbal',\n",
       "       'Kengeri', 'Sankey Road', 'Sadashiv Nagar', 'Basaveshwara Nagar',\n",
       "       'Yeshwantpur', 'West Bangalore', 'Magadi Road', 'Yelahanka',\n",
       "       'Sahakara Nagar', 'Peenya'], dtype=object)"
      ]
     },
     "execution_count": 47,
     "metadata": {},
     "output_type": "execute_result"
    }
   ],
   "source": [
    "df['location'].unique()"
   ]
  },
  {
   "cell_type": "code",
   "execution_count": 48,
   "id": "likely-bryan",
   "metadata": {
    "papermill": {
     "duration": 0.06245,
     "end_time": "2021-06-01T09:53:56.740440",
     "exception": false,
     "start_time": "2021-06-01T09:53:56.677990",
     "status": "completed"
    },
    "tags": []
   },
   "outputs": [
    {
     "data": {
      "text/plain": [
       "array(['Banashankari', 'Bannerghatta Road', 'Basavanagudi', 'Bellandur',\n",
       "       'Brigade Road', 'Brookefield', 'BTM', 'Church Street',\n",
       "       'Electronic City', 'Frazer Town', 'HSR', 'Indiranagar',\n",
       "       'Jayanagar', 'JP Nagar', 'Kalyan Nagar', 'Kammanahalli',\n",
       "       'Koramangala 4th Block', 'Koramangala 5th Block',\n",
       "       'Koramangala 6th Block', 'Koramangala 7th Block', 'Lavelle Road',\n",
       "       'Malleshwaram', 'Marathahalli', 'MG Road', 'New BEL Road',\n",
       "       'Old Airport Road', 'Rajajinagar', 'Residency Road',\n",
       "       'Sarjapur Road', 'Whitefield'], dtype=object)"
      ]
     },
     "execution_count": 48,
     "metadata": {},
     "output_type": "execute_result"
    }
   ],
   "source": [
    "df['listed_in(city)'].unique()"
   ]
  },
  {
   "cell_type": "markdown",
   "id": "magnetic-tradition",
   "metadata": {
    "papermill": {
     "duration": 0.050817,
     "end_time": "2021-06-01T09:53:56.841749",
     "exception": false,
     "start_time": "2021-06-01T09:53:56.790932",
     "status": "completed"
    },
    "tags": []
   },
   "source": [
    "## Listed in(city) and location, both are there, lets keep only one."
   ]
  },
  {
   "cell_type": "code",
   "execution_count": 49,
   "id": "bizarre-cleaning",
   "metadata": {
    "papermill": {
     "duration": 0.061638,
     "end_time": "2021-06-01T09:53:56.954502",
     "exception": false,
     "start_time": "2021-06-01T09:53:56.892864",
     "status": "completed"
    },
    "tags": []
   },
   "outputs": [],
   "source": [
    "df = df.drop(['listed_in(city)'], axis = 1)"
   ]
  },
  {
   "cell_type": "code",
   "execution_count": 50,
   "id": "medical-colombia",
   "metadata": {
    "papermill": {
     "duration": 0.064116,
     "end_time": "2021-06-01T09:53:57.069553",
     "exception": false,
     "start_time": "2021-06-01T09:53:57.005437",
     "status": "completed"
    },
    "tags": []
   },
   "outputs": [
    {
     "data": {
      "text/plain": [
       "array(['800', '300', '600', '700', '550', '500', '450', '650', '400',\n",
       "       '900', '200', '750', '150', '850', '100', '1,200', '350', '250',\n",
       "       '950', '1,000', '1,500', '1,300', '199', '80', '1,100', '160',\n",
       "       '1,600', '230', '130', '50', '190', '1,700', '1,400', '180',\n",
       "       '1,350', '2,200', '2,000', '1,800', '1,900', '330', '2,500',\n",
       "       '2,100', '3,000', '2,800', '3,400', '40', '1,250', '3,500',\n",
       "       '4,000', '2,400', '2,600', '120', '1,450', '469', '70', '3,200',\n",
       "       '60', '560', '240', '360', '6,000', '1,050', '2,300', '4,100',\n",
       "       '5,000', '3,700', '1,650', '2,700', '4,500', '140'], dtype=object)"
      ]
     },
     "execution_count": 50,
     "metadata": {},
     "output_type": "execute_result"
    }
   ],
   "source": [
    "df['Cost2plates'].unique()"
   ]
  },
  {
   "cell_type": "markdown",
   "id": "plastic-implement",
   "metadata": {
    "papermill": {
     "duration": 0.051031,
     "end_time": "2021-06-01T09:53:57.171750",
     "exception": false,
     "start_time": "2021-06-01T09:53:57.120719",
     "status": "completed"
    },
    "tags": []
   },
   "source": [
    "## Removing , from Cost2Plates Column"
   ]
  },
  {
   "cell_type": "code",
   "execution_count": 51,
   "id": "lasting-strength",
   "metadata": {
    "papermill": {
     "duration": 0.108575,
     "end_time": "2021-06-01T09:53:57.330547",
     "exception": false,
     "start_time": "2021-06-01T09:53:57.221972",
     "status": "completed"
    },
    "tags": []
   },
   "outputs": [
    {
     "data": {
      "text/plain": [
       "array([ 800.,  300.,  600.,  700.,  550.,  500.,  450.,  650.,  400.,\n",
       "        900.,  200.,  750.,  150.,  850.,  100., 1200.,  350.,  250.,\n",
       "        950., 1000., 1500., 1300.,  199.,   80., 1100.,  160., 1600.,\n",
       "        230.,  130.,   50.,  190., 1700., 1400.,  180., 1350., 2200.,\n",
       "       2000., 1800., 1900.,  330., 2500., 2100., 3000., 2800., 3400.,\n",
       "         40., 1250., 3500., 4000., 2400., 2600.,  120., 1450.,  469.,\n",
       "         70., 3200.,   60.,  560.,  240.,  360., 6000., 1050., 2300.,\n",
       "       4100., 5000., 3700., 1650., 2700., 4500.,  140.])"
      ]
     },
     "execution_count": 51,
     "metadata": {},
     "output_type": "execute_result"
    }
   ],
   "source": [
    "def handlecomma(value):\n",
    "    value = str(value)\n",
    "    if ',' in value:\n",
    "        value = value.replace(',', '')\n",
    "        return float(value)\n",
    "    else:\n",
    "        return float(value)\n",
    "    \n",
    "df['Cost2plates'] = df['Cost2plates'].apply(handlecomma)\n",
    "df['Cost2plates'].unique()\n",
    "        "
   ]
  },
  {
   "cell_type": "code",
   "execution_count": 52,
   "id": "sacred-earth",
   "metadata": {
    "papermill": {
     "duration": 0.070091,
     "end_time": "2021-06-01T09:53:57.451517",
     "exception": false,
     "start_time": "2021-06-01T09:53:57.381426",
     "status": "completed"
    },
    "tags": []
   },
   "outputs": [
    {
     "data": {
      "text/html": [
       "<div>\n",
       "<style scoped>\n",
       "    .dataframe tbody tr th:only-of-type {\n",
       "        vertical-align: middle;\n",
       "    }\n",
       "\n",
       "    .dataframe tbody tr th {\n",
       "        vertical-align: top;\n",
       "    }\n",
       "\n",
       "    .dataframe thead th {\n",
       "        text-align: right;\n",
       "    }\n",
       "</style>\n",
       "<table border=\"1\" class=\"dataframe\">\n",
       "  <thead>\n",
       "    <tr style=\"text-align: right;\">\n",
       "      <th></th>\n",
       "      <th>name</th>\n",
       "      <th>online_order</th>\n",
       "      <th>book_table</th>\n",
       "      <th>rate</th>\n",
       "      <th>votes</th>\n",
       "      <th>location</th>\n",
       "      <th>rest_type</th>\n",
       "      <th>cuisines</th>\n",
       "      <th>Cost2plates</th>\n",
       "      <th>Type</th>\n",
       "    </tr>\n",
       "  </thead>\n",
       "  <tbody>\n",
       "    <tr>\n",
       "      <th>0</th>\n",
       "      <td>Jalsa</td>\n",
       "      <td>Yes</td>\n",
       "      <td>Yes</td>\n",
       "      <td>4.1</td>\n",
       "      <td>775</td>\n",
       "      <td>Banashankari</td>\n",
       "      <td>Casual Dining</td>\n",
       "      <td>North Indian, Mughlai, Chinese</td>\n",
       "      <td>800.0</td>\n",
       "      <td>Buffet</td>\n",
       "    </tr>\n",
       "    <tr>\n",
       "      <th>1</th>\n",
       "      <td>Spice Elephant</td>\n",
       "      <td>Yes</td>\n",
       "      <td>No</td>\n",
       "      <td>4.1</td>\n",
       "      <td>787</td>\n",
       "      <td>Banashankari</td>\n",
       "      <td>Casual Dining</td>\n",
       "      <td>Chinese, North Indian, Thai</td>\n",
       "      <td>800.0</td>\n",
       "      <td>Buffet</td>\n",
       "    </tr>\n",
       "    <tr>\n",
       "      <th>2</th>\n",
       "      <td>San Churro Cafe</td>\n",
       "      <td>Yes</td>\n",
       "      <td>No</td>\n",
       "      <td>3.8</td>\n",
       "      <td>918</td>\n",
       "      <td>Banashankari</td>\n",
       "      <td>Cafe, Casual Dining</td>\n",
       "      <td>Cafe, Mexican, Italian</td>\n",
       "      <td>800.0</td>\n",
       "      <td>Buffet</td>\n",
       "    </tr>\n",
       "    <tr>\n",
       "      <th>3</th>\n",
       "      <td>Addhuri Udupi Bhojana</td>\n",
       "      <td>No</td>\n",
       "      <td>No</td>\n",
       "      <td>3.7</td>\n",
       "      <td>88</td>\n",
       "      <td>Banashankari</td>\n",
       "      <td>Quick Bites</td>\n",
       "      <td>South Indian, North Indian</td>\n",
       "      <td>300.0</td>\n",
       "      <td>Buffet</td>\n",
       "    </tr>\n",
       "    <tr>\n",
       "      <th>4</th>\n",
       "      <td>Grand Village</td>\n",
       "      <td>No</td>\n",
       "      <td>No</td>\n",
       "      <td>3.8</td>\n",
       "      <td>166</td>\n",
       "      <td>Basavanagudi</td>\n",
       "      <td>Casual Dining</td>\n",
       "      <td>North Indian, Rajasthani</td>\n",
       "      <td>600.0</td>\n",
       "      <td>Buffet</td>\n",
       "    </tr>\n",
       "  </tbody>\n",
       "</table>\n",
       "</div>"
      ],
      "text/plain": [
       "                    name online_order book_table  rate  votes      location  \\\n",
       "0                  Jalsa          Yes        Yes   4.1    775  Banashankari   \n",
       "1         Spice Elephant          Yes         No   4.1    787  Banashankari   \n",
       "2        San Churro Cafe          Yes         No   3.8    918  Banashankari   \n",
       "3  Addhuri Udupi Bhojana           No         No   3.7     88  Banashankari   \n",
       "4          Grand Village           No         No   3.8    166  Basavanagudi   \n",
       "\n",
       "             rest_type                        cuisines  Cost2plates    Type  \n",
       "0        Casual Dining  North Indian, Mughlai, Chinese        800.0  Buffet  \n",
       "1        Casual Dining     Chinese, North Indian, Thai        800.0  Buffet  \n",
       "2  Cafe, Casual Dining          Cafe, Mexican, Italian        800.0  Buffet  \n",
       "3          Quick Bites      South Indian, North Indian        300.0  Buffet  \n",
       "4        Casual Dining        North Indian, Rajasthani        600.0  Buffet  "
      ]
     },
     "execution_count": 52,
     "metadata": {},
     "output_type": "execute_result"
    }
   ],
   "source": [
    "df.head()"
   ]
  },
  {
   "cell_type": "markdown",
   "id": "sudden-radar",
   "metadata": {
    "papermill": {
     "duration": 0.052578,
     "end_time": "2021-06-01T09:53:57.555797",
     "exception": false,
     "start_time": "2021-06-01T09:53:57.503219",
     "status": "completed"
    },
    "tags": []
   },
   "source": [
    "## Cleaning Rest Type Column"
   ]
  },
  {
   "cell_type": "code",
   "execution_count": 53,
   "id": "frozen-turner",
   "metadata": {
    "papermill": {
     "duration": 0.072918,
     "end_time": "2021-06-01T09:53:57.681025",
     "exception": false,
     "start_time": "2021-06-01T09:53:57.608107",
     "status": "completed"
    },
    "tags": []
   },
   "outputs": [
    {
     "data": {
      "text/plain": [
       "rest_type\n",
       "Quick Bites                   19010\n",
       "Casual Dining                 10253\n",
       "Cafe                           3682\n",
       "Delivery                       2574\n",
       "Dessert Parlor                 2242\n",
       "                              ...  \n",
       "Dessert Parlor, Kiosk             2\n",
       "Dessert Parlor, Food Court        2\n",
       "Food Court, Beverage Shop         2\n",
       "Sweet Shop, Dessert Parlor        1\n",
       "Quick Bites, Kiosk                1\n",
       "Name: count, Length: 93, dtype: int64"
      ]
     },
     "execution_count": 53,
     "metadata": {},
     "output_type": "execute_result"
    }
   ],
   "source": [
    "rest_types = df['rest_type'].value_counts(ascending  = False)\n",
    "rest_types"
   ]
  },
  {
   "cell_type": "code",
   "execution_count": 54,
   "id": "decent-sarah",
   "metadata": {
    "papermill": {
     "duration": 0.061511,
     "end_time": "2021-06-01T09:53:57.794791",
     "exception": false,
     "start_time": "2021-06-01T09:53:57.733280",
     "status": "completed"
    },
    "tags": []
   },
   "outputs": [
    {
     "data": {
      "text/plain": [
       "rest_type\n",
       "Beverage Shop                 863\n",
       "Bar                           686\n",
       "Food Court                    616\n",
       "Sweet Shop                    468\n",
       "Bar, Casual Dining            411\n",
       "                             ... \n",
       "Dessert Parlor, Kiosk           2\n",
       "Dessert Parlor, Food Court      2\n",
       "Food Court, Beverage Shop       2\n",
       "Sweet Shop, Dessert Parlor      1\n",
       "Quick Bites, Kiosk              1\n",
       "Name: count, Length: 85, dtype: int64"
      ]
     },
     "execution_count": 54,
     "metadata": {},
     "output_type": "execute_result"
    }
   ],
   "source": [
    "rest_types_lessthan1000 = rest_types[rest_types<1000]\n",
    "rest_types_lessthan1000"
   ]
  },
  {
   "cell_type": "markdown",
   "id": "standard-independence",
   "metadata": {
    "papermill": {
     "duration": 0.051679,
     "end_time": "2021-06-01T09:53:57.898897",
     "exception": false,
     "start_time": "2021-06-01T09:53:57.847218",
     "status": "completed"
    },
    "tags": []
   },
   "source": [
    "## Making Rest Types less than 1000 in frequency as others"
   ]
  },
  {
   "cell_type": "code",
   "execution_count": 55,
   "id": "commercial-ballet",
   "metadata": {
    "papermill": {
     "duration": 0.151446,
     "end_time": "2021-06-01T09:53:58.102782",
     "exception": false,
     "start_time": "2021-06-01T09:53:57.951336",
     "status": "completed"
    },
    "tags": []
   },
   "outputs": [
    {
     "data": {
      "text/plain": [
       "rest_type\n",
       "Quick Bites           19010\n",
       "Casual Dining         10253\n",
       "others                 9003\n",
       "Cafe                   3682\n",
       "Delivery               2574\n",
       "Dessert Parlor         2242\n",
       "Takeaway, Delivery     2008\n",
       "Bakery                 1140\n",
       "Casual Dining, Bar     1130\n",
       "Name: count, dtype: int64"
      ]
     },
     "execution_count": 55,
     "metadata": {},
     "output_type": "execute_result"
    }
   ],
   "source": [
    "def handle_rest_type(value):\n",
    "    if(value in rest_types_lessthan1000):\n",
    "        return 'others'\n",
    "    else:\n",
    "        return value\n",
    "        \n",
    "df['rest_type'] = df['rest_type'].apply(handle_rest_type)\n",
    "df['rest_type'].value_counts()\n",
    "        "
   ]
  },
  {
   "cell_type": "markdown",
   "id": "polished-joseph",
   "metadata": {
    "papermill": {
     "duration": 0.053057,
     "end_time": "2021-06-01T09:53:58.208851",
     "exception": false,
     "start_time": "2021-06-01T09:53:58.155794",
     "status": "completed"
    },
    "tags": []
   },
   "source": [
    "## Cleaning Location Column"
   ]
  },
  {
   "cell_type": "code",
   "execution_count": 56,
   "id": "comic-optimum",
   "metadata": {
    "papermill": {
     "duration": 0.165789,
     "end_time": "2021-06-01T09:53:58.427776",
     "exception": false,
     "start_time": "2021-06-01T09:53:58.261987",
     "status": "completed"
    },
    "tags": []
   },
   "outputs": [
    {
     "data": {
      "text/plain": [
       "location\n",
       "BTM                      5056\n",
       "others                   4954\n",
       "HSR                      2494\n",
       "Koramangala 5th Block    2479\n",
       "JP Nagar                 2218\n",
       "Whitefield               2105\n",
       "Indiranagar              2026\n",
       "Jayanagar                1916\n",
       "Marathahalli             1805\n",
       "Bannerghatta Road        1609\n",
       "Bellandur                1268\n",
       "Electronic City          1246\n",
       "Koramangala 1st Block    1236\n",
       "Brigade Road             1210\n",
       "Koramangala 7th Block    1174\n",
       "Koramangala 6th Block    1127\n",
       "Sarjapur Road            1047\n",
       "Koramangala 4th Block    1017\n",
       "Ulsoor                   1011\n",
       "Banashankari              902\n",
       "MG Road                   893\n",
       "Kalyan Nagar              841\n",
       "Richmond Road             803\n",
       "Malleshwaram              721\n",
       "Frazer Town               714\n",
       "Basavanagudi              684\n",
       "Residency Road            671\n",
       "Brookefield               656\n",
       "New BEL Road              644\n",
       "Banaswadi                 640\n",
       "Kammanahalli              639\n",
       "Rajajinagar               591\n",
       "Church Street             566\n",
       "Lavelle Road              518\n",
       "Shanti Nagar              508\n",
       "Shivajinagar              498\n",
       "Cunningham Road           490\n",
       "Domlur                    482\n",
       "Old Airport Road          437\n",
       "Ejipura                   433\n",
       "Commercial Street         370\n",
       "St. Marks Road            343\n",
       "Name: count, dtype: int64"
      ]
     },
     "execution_count": 56,
     "metadata": {},
     "output_type": "execute_result"
    }
   ],
   "source": [
    "location = df['location'].value_counts(ascending  = False)\n",
    "\n",
    "location_lessthan300 = location[location<300]\n",
    "\n",
    "\n",
    "\n",
    "def handle_location(value):\n",
    "    if(value in location_lessthan300):\n",
    "        return 'others'\n",
    "    else:\n",
    "        return value\n",
    "        \n",
    "df['location'] = df['location'].apply(handle_location)\n",
    "df['location'].value_counts()"
   ]
  },
  {
   "cell_type": "markdown",
   "id": "charming-friend",
   "metadata": {
    "papermill": {
     "duration": 0.053208,
     "end_time": "2021-06-01T09:53:58.534220",
     "exception": false,
     "start_time": "2021-06-01T09:53:58.481012",
     "status": "completed"
    },
    "tags": []
   },
   "source": [
    "## Cleaning Cuisines Column"
   ]
  },
  {
   "cell_type": "code",
   "execution_count": 57,
   "id": "valuable-sterling",
   "metadata": {
    "papermill": {
     "duration": 0.16549,
     "end_time": "2021-06-01T09:53:58.753287",
     "exception": false,
     "start_time": "2021-06-01T09:53:58.587797",
     "status": "completed"
    },
    "tags": []
   },
   "outputs": [
    {
     "data": {
      "text/plain": [
       "cuisines\n",
       "others                                 26159\n",
       "North Indian                            2852\n",
       "North Indian, Chinese                   2351\n",
       "South Indian                            1820\n",
       "Biryani                                  903\n",
       "                                       ...  \n",
       "South Indian, Chinese, North Indian      105\n",
       "North Indian, Mughlai, Chinese           104\n",
       "South Indian, Fast Food                  104\n",
       "Italian, Pizza                           102\n",
       "North Indian, Chinese, Seafood           102\n",
       "Name: count, Length: 70, dtype: int64"
      ]
     },
     "execution_count": 57,
     "metadata": {},
     "output_type": "execute_result"
    }
   ],
   "source": [
    "cuisines = df['cuisines'].value_counts(ascending  = False)\n",
    "\n",
    "\n",
    "cuisines_lessthan100 = cuisines[cuisines<100]\n",
    "\n",
    "\n",
    "\n",
    "def handle_cuisines(value):\n",
    "    if(value in cuisines_lessthan100):\n",
    "        return 'others'\n",
    "    else:\n",
    "        return value\n",
    "        \n",
    "df['cuisines'] = df['cuisines'].apply(handle_cuisines)\n",
    "df['cuisines'].value_counts()\n"
   ]
  },
  {
   "cell_type": "code",
   "execution_count": 58,
   "id": "baking-championship",
   "metadata": {
    "papermill": {
     "duration": 0.073436,
     "end_time": "2021-06-01T09:53:58.881468",
     "exception": false,
     "start_time": "2021-06-01T09:53:58.808032",
     "status": "completed"
    },
    "tags": []
   },
   "outputs": [
    {
     "data": {
      "text/html": [
       "<div>\n",
       "<style scoped>\n",
       "    .dataframe tbody tr th:only-of-type {\n",
       "        vertical-align: middle;\n",
       "    }\n",
       "\n",
       "    .dataframe tbody tr th {\n",
       "        vertical-align: top;\n",
       "    }\n",
       "\n",
       "    .dataframe thead th {\n",
       "        text-align: right;\n",
       "    }\n",
       "</style>\n",
       "<table border=\"1\" class=\"dataframe\">\n",
       "  <thead>\n",
       "    <tr style=\"text-align: right;\">\n",
       "      <th></th>\n",
       "      <th>name</th>\n",
       "      <th>online_order</th>\n",
       "      <th>book_table</th>\n",
       "      <th>rate</th>\n",
       "      <th>votes</th>\n",
       "      <th>location</th>\n",
       "      <th>rest_type</th>\n",
       "      <th>cuisines</th>\n",
       "      <th>Cost2plates</th>\n",
       "      <th>Type</th>\n",
       "    </tr>\n",
       "  </thead>\n",
       "  <tbody>\n",
       "    <tr>\n",
       "      <th>0</th>\n",
       "      <td>Jalsa</td>\n",
       "      <td>Yes</td>\n",
       "      <td>Yes</td>\n",
       "      <td>4.1</td>\n",
       "      <td>775</td>\n",
       "      <td>Banashankari</td>\n",
       "      <td>Casual Dining</td>\n",
       "      <td>North Indian, Mughlai, Chinese</td>\n",
       "      <td>800.0</td>\n",
       "      <td>Buffet</td>\n",
       "    </tr>\n",
       "    <tr>\n",
       "      <th>1</th>\n",
       "      <td>Spice Elephant</td>\n",
       "      <td>Yes</td>\n",
       "      <td>No</td>\n",
       "      <td>4.1</td>\n",
       "      <td>787</td>\n",
       "      <td>Banashankari</td>\n",
       "      <td>Casual Dining</td>\n",
       "      <td>others</td>\n",
       "      <td>800.0</td>\n",
       "      <td>Buffet</td>\n",
       "    </tr>\n",
       "    <tr>\n",
       "      <th>2</th>\n",
       "      <td>San Churro Cafe</td>\n",
       "      <td>Yes</td>\n",
       "      <td>No</td>\n",
       "      <td>3.8</td>\n",
       "      <td>918</td>\n",
       "      <td>Banashankari</td>\n",
       "      <td>others</td>\n",
       "      <td>others</td>\n",
       "      <td>800.0</td>\n",
       "      <td>Buffet</td>\n",
       "    </tr>\n",
       "    <tr>\n",
       "      <th>3</th>\n",
       "      <td>Addhuri Udupi Bhojana</td>\n",
       "      <td>No</td>\n",
       "      <td>No</td>\n",
       "      <td>3.7</td>\n",
       "      <td>88</td>\n",
       "      <td>Banashankari</td>\n",
       "      <td>Quick Bites</td>\n",
       "      <td>South Indian, North Indian</td>\n",
       "      <td>300.0</td>\n",
       "      <td>Buffet</td>\n",
       "    </tr>\n",
       "    <tr>\n",
       "      <th>4</th>\n",
       "      <td>Grand Village</td>\n",
       "      <td>No</td>\n",
       "      <td>No</td>\n",
       "      <td>3.8</td>\n",
       "      <td>166</td>\n",
       "      <td>Basavanagudi</td>\n",
       "      <td>Casual Dining</td>\n",
       "      <td>others</td>\n",
       "      <td>600.0</td>\n",
       "      <td>Buffet</td>\n",
       "    </tr>\n",
       "  </tbody>\n",
       "</table>\n",
       "</div>"
      ],
      "text/plain": [
       "                    name online_order book_table  rate  votes      location  \\\n",
       "0                  Jalsa          Yes        Yes   4.1    775  Banashankari   \n",
       "1         Spice Elephant          Yes         No   4.1    787  Banashankari   \n",
       "2        San Churro Cafe          Yes         No   3.8    918  Banashankari   \n",
       "3  Addhuri Udupi Bhojana           No         No   3.7     88  Banashankari   \n",
       "4          Grand Village           No         No   3.8    166  Basavanagudi   \n",
       "\n",
       "       rest_type                        cuisines  Cost2plates    Type  \n",
       "0  Casual Dining  North Indian, Mughlai, Chinese        800.0  Buffet  \n",
       "1  Casual Dining                          others        800.0  Buffet  \n",
       "2         others                          others        800.0  Buffet  \n",
       "3    Quick Bites      South Indian, North Indian        300.0  Buffet  \n",
       "4  Casual Dining                          others        600.0  Buffet  "
      ]
     },
     "execution_count": 58,
     "metadata": {},
     "output_type": "execute_result"
    }
   ],
   "source": [
    "df.head()"
   ]
  },
  {
   "cell_type": "markdown",
   "id": "documented-illness",
   "metadata": {
    "papermill": {
     "duration": 0.053396,
     "end_time": "2021-06-01T09:53:58.988572",
     "exception": false,
     "start_time": "2021-06-01T09:53:58.935176",
     "status": "completed"
    },
    "tags": []
   },
   "source": [
    "## **Data is Clean, Lets jump to Visualization**"
   ]
  },
  {
   "cell_type": "markdown",
   "id": "foreign-contributor",
   "metadata": {
    "papermill": {
     "duration": 0.054967,
     "end_time": "2021-06-01T09:53:59.098954",
     "exception": false,
     "start_time": "2021-06-01T09:53:59.043987",
     "status": "completed"
    },
    "tags": []
   },
   "source": [
    "## Count Plot of Various Locations"
   ]
  },
  {
   "cell_type": "code",
   "execution_count": 59,
   "id": "finnish-ladder",
   "metadata": {
    "papermill": {
     "duration": 0.609134,
     "end_time": "2021-06-01T09:53:59.762321",
     "exception": false,
     "start_time": "2021-06-01T09:53:59.153187",
     "status": "completed"
    },
    "tags": []
   },
   "outputs": [
    {
     "data": {
      "text/plain": [
       "(array([   0., 1000., 2000., 3000., 4000., 5000., 6000.]),\n",
       " [Text(0.0, 0, '0'),\n",
       "  Text(1000.0, 0, '1000'),\n",
       "  Text(2000.0, 0, '2000'),\n",
       "  Text(3000.0, 0, '3000'),\n",
       "  Text(4000.0, 0, '4000'),\n",
       "  Text(5000.0, 0, '5000'),\n",
       "  Text(6000.0, 0, '6000')])"
      ]
     },
     "execution_count": 59,
     "metadata": {},
     "output_type": "execute_result"
    },
    {
     "data": {
      "image/png": "[encoded data removed]",
      "text/plain": [
       "<Figure size 1600x1000 with 1 Axes>"
      ]
     },
     "metadata": {},
     "output_type": "display_data"
    }
   ],
   "source": [
    "plt.figure(figsize = (16,10))\n",
    "ax = sns.countplot(df['location'])\n",
    "plt.xticks(rotation=90)"
   ]
  },
  {
   "cell_type": "markdown",
   "id": "loose-invitation",
   "metadata": {
    "papermill": {
     "duration": 0.059209,
     "end_time": "2021-06-01T09:53:59.878363",
     "exception": false,
     "start_time": "2021-06-01T09:53:59.819154",
     "status": "completed"
    },
    "tags": []
   },
   "source": [
    "## Visualizing Online Order"
   ]
  },
  {
   "cell_type": "code",
   "execution_count": 60,
   "id": "adverse-horizontal",
   "metadata": {
    "papermill": {
     "duration": 0.229399,
     "end_time": "2021-06-01T09:54:00.166810",
     "exception": false,
     "start_time": "2021-06-01T09:53:59.937411",
     "status": "completed"
    },
    "tags": []
   },
   "outputs": [
    {
     "name": "stderr",
     "output_type": "stream",
     "text": [
      "C:\\Users\\bogoj\\AppData\\Local\\Temp\\ipykernel_23228\\2251546332.py:2: FutureWarning: \n",
      "\n",
      "Passing `palette` without assigning `hue` is deprecated and will be removed in v0.14.0. Assign the `y` variable to `hue` and set `legend=False` for the same effect.\n",
      "\n",
      "  sns.countplot(df['online_order'], palette = 'inferno')\n"
     ]
    },
    {
     "data": {
      "text/plain": [
       "<Axes: xlabel='count', ylabel='online_order'>"
      ]
     },
     "execution_count": 60,
     "metadata": {},
     "output_type": "execute_result"
    },
    {
     "data": {
      "image/png": "[encoded data removed]",
      "text/plain": [
       "<Figure size 600x600 with 1 Axes>"
      ]
     },
     "metadata": {},
     "output_type": "display_data"
    }
   ],
   "source": [
    "plt.figure(figsize = (6,6))\n",
    "sns.countplot(df['online_order'], palette = 'inferno')"
   ]
  },
  {
   "cell_type": "markdown",
   "id": "strange-divide",
   "metadata": {
    "papermill": {
     "duration": 0.059353,
     "end_time": "2021-06-01T09:54:00.285303",
     "exception": false,
     "start_time": "2021-06-01T09:54:00.225950",
     "status": "completed"
    },
    "tags": []
   },
   "source": [
    "## Visualizing Book Table"
   ]
  },
  {
   "cell_type": "code",
   "execution_count": 61,
   "id": "sapphire-recall",
   "metadata": {
    "papermill": {
     "duration": 0.21655,
     "end_time": "2021-06-01T09:54:00.560080",
     "exception": false,
     "start_time": "2021-06-01T09:54:00.343530",
     "status": "completed"
    },
    "tags": []
   },
   "outputs": [
    {
     "name": "stderr",
     "output_type": "stream",
     "text": [
      "C:\\Users\\bogoj\\AppData\\Local\\Temp\\ipykernel_23228\\222089420.py:2: FutureWarning: \n",
      "\n",
      "Passing `palette` without assigning `hue` is deprecated and will be removed in v0.14.0. Assign the `y` variable to `hue` and set `legend=False` for the same effect.\n",
      "\n",
      "  sns.countplot(df['book_table'], palette = 'rainbow')\n"
     ]
    },
    {
     "data": {
      "text/plain": [
       "<Axes: xlabel='count', ylabel='book_table'>"
      ]
     },
     "execution_count": 61,
     "metadata": {},
     "output_type": "execute_result"
    },
    {
     "data": {
      "image/png": "[encoded data removed]",
      "text/plain": [
       "<Figure size 600x600 with 1 Axes>"
      ]
     },
     "metadata": {},
     "output_type": "display_data"
    }
   ],
   "source": [
    "plt.figure(figsize = (6,6))\n",
    "sns.countplot(df['book_table'], palette = 'rainbow')"
   ]
  },
  {
   "cell_type": "markdown",
   "id": "sweet-implementation",
   "metadata": {
    "papermill": {
     "duration": 0.059297,
     "end_time": "2021-06-01T09:54:00.678497",
     "exception": false,
     "start_time": "2021-06-01T09:54:00.619200",
     "status": "completed"
    },
    "tags": []
   },
   "source": [
    "## Visualizing Online Order vs Rate"
   ]
  },
  {
   "cell_type": "code",
   "execution_count": 62,
   "id": "convinced-coalition",
   "metadata": {
    "papermill": {
     "duration": 0.244202,
     "end_time": "2021-06-01T09:54:00.981662",
     "exception": false,
     "start_time": "2021-06-01T09:54:00.737460",
     "status": "completed"
    },
    "tags": []
   },
   "outputs": [
    {
     "data": {
      "text/plain": [
       "<Axes: xlabel='online_order', ylabel='rate'>"
      ]
     },
     "execution_count": 62,
     "metadata": {},
     "output_type": "execute_result"
    },
    {
     "data": {
      "image/png": "[encoded data removed]",
      "text/plain": [
       "<Figure size 600x600 with 1 Axes>"
      ]
     },
     "metadata": {},
     "output_type": "display_data"
    }
   ],
   "source": [
    "plt.figure(figsize = (6,6))\n",
    "sns.boxplot(x = 'online_order', y = 'rate', data = df)"
   ]
  },
  {
   "cell_type": "markdown",
   "id": "enabling-place",
   "metadata": {
    "papermill": {
     "duration": 0.060506,
     "end_time": "2021-06-01T09:54:01.105678",
     "exception": false,
     "start_time": "2021-06-01T09:54:01.045172",
     "status": "completed"
    },
    "tags": []
   },
   "source": [
    "## Visualizing Book Table vs Rate"
   ]
  },
  {
   "cell_type": "code",
   "execution_count": 63,
   "id": "breathing-surgery",
   "metadata": {
    "papermill": {
     "duration": 0.247785,
     "end_time": "2021-06-01T09:54:01.414118",
     "exception": false,
     "start_time": "2021-06-01T09:54:01.166333",
     "status": "completed"
    },
    "tags": []
   },
   "outputs": [
    {
     "data": {
      "text/plain": [
       "<Axes: xlabel='book_table', ylabel='rate'>"
      ]
     },
     "execution_count": 63,
     "metadata": {},
     "output_type": "execute_result"
    },
    {
     "data": {
      "image/png": "[encoded data removed]",
      "text/plain": [
       "<Figure size 600x600 with 1 Axes>"
      ]
     },
     "metadata": {},
     "output_type": "display_data"
    }
   ],
   "source": [
    "plt.figure(figsize = (6,6))\n",
    "sns.boxplot(x = 'book_table', y = 'rate', data = df)"
   ]
  },
  {
   "cell_type": "markdown",
   "id": "corresponding-heath",
   "metadata": {
    "papermill": {
     "duration": 0.061118,
     "end_time": "2021-06-01T09:54:01.536437",
     "exception": false,
     "start_time": "2021-06-01T09:54:01.475319",
     "status": "completed"
    },
    "tags": []
   },
   "source": [
    "## Visualizing Online Order Facility, Location Wise"
   ]
  },
  {
   "cell_type": "code",
   "execution_count": 64,
   "id": "rapid-console",
   "metadata": {
    "papermill": {
     "duration": 0.221708,
     "end_time": "2021-06-01T09:54:01.819399",
     "exception": false,
     "start_time": "2021-06-01T09:54:01.597691",
     "status": "completed"
    },
    "tags": []
   },
   "outputs": [
    {
     "name": "stderr",
     "output_type": "stream",
     "text": [
      "C:\\Users\\bogoj\\AppData\\Local\\Temp\\ipykernel_23228\\2546502282.py:4: FutureWarning: The provided callable <function sum at 0x000001BC482EE0C0> is currently using DataFrameGroupBy.sum. In a future version of pandas, the provided callable will be used directly. To keep current behavior pass the string \"sum\" instead.\n",
      "  df1 = pd.pivot_table(df1, values=None, index=['location'], columns=['online_order'], fill_value=0, aggfunc=np.sum)\n"
     ]
    },
    {
     "data": {
      "text/html": [
       "<div>\n",
       "<style scoped>\n",
       "    .dataframe tbody tr th:only-of-type {\n",
       "        vertical-align: middle;\n",
       "    }\n",
       "\n",
       "    .dataframe tbody tr th {\n",
       "        vertical-align: top;\n",
       "    }\n",
       "\n",
       "    .dataframe thead tr th {\n",
       "        text-align: left;\n",
       "    }\n",
       "\n",
       "    .dataframe thead tr:last-of-type th {\n",
       "        text-align: right;\n",
       "    }\n",
       "</style>\n",
       "<table border=\"1\" class=\"dataframe\">\n",
       "  <thead>\n",
       "    <tr>\n",
       "      <th></th>\n",
       "      <th colspan=\"2\" halign=\"left\">name</th>\n",
       "    </tr>\n",
       "    <tr>\n",
       "      <th>online_order</th>\n",
       "      <th>No</th>\n",
       "      <th>Yes</th>\n",
       "    </tr>\n",
       "    <tr>\n",
       "      <th>location</th>\n",
       "      <th></th>\n",
       "      <th></th>\n",
       "    </tr>\n",
       "  </thead>\n",
       "  <tbody>\n",
       "    <tr>\n",
       "      <th>BTM</th>\n",
       "      <td>1763</td>\n",
       "      <td>3293</td>\n",
       "    </tr>\n",
       "    <tr>\n",
       "      <th>Banashankari</th>\n",
       "      <td>397</td>\n",
       "      <td>505</td>\n",
       "    </tr>\n",
       "    <tr>\n",
       "      <th>Banaswadi</th>\n",
       "      <td>302</td>\n",
       "      <td>338</td>\n",
       "    </tr>\n",
       "    <tr>\n",
       "      <th>Bannerghatta Road</th>\n",
       "      <td>685</td>\n",
       "      <td>924</td>\n",
       "    </tr>\n",
       "    <tr>\n",
       "      <th>Basavanagudi</th>\n",
       "      <td>243</td>\n",
       "      <td>441</td>\n",
       "    </tr>\n",
       "    <tr>\n",
       "      <th>Bellandur</th>\n",
       "      <td>517</td>\n",
       "      <td>751</td>\n",
       "    </tr>\n",
       "    <tr>\n",
       "      <th>Brigade Road</th>\n",
       "      <td>552</td>\n",
       "      <td>658</td>\n",
       "    </tr>\n",
       "    <tr>\n",
       "      <th>Brookefield</th>\n",
       "      <td>239</td>\n",
       "      <td>417</td>\n",
       "    </tr>\n",
       "    <tr>\n",
       "      <th>Church Street</th>\n",
       "      <td>226</td>\n",
       "      <td>340</td>\n",
       "    </tr>\n",
       "    <tr>\n",
       "      <th>Commercial Street</th>\n",
       "      <td>228</td>\n",
       "      <td>142</td>\n",
       "    </tr>\n",
       "    <tr>\n",
       "      <th>Cunningham Road</th>\n",
       "      <td>168</td>\n",
       "      <td>322</td>\n",
       "    </tr>\n",
       "    <tr>\n",
       "      <th>Domlur</th>\n",
       "      <td>247</td>\n",
       "      <td>235</td>\n",
       "    </tr>\n",
       "    <tr>\n",
       "      <th>Ejipura</th>\n",
       "      <td>214</td>\n",
       "      <td>219</td>\n",
       "    </tr>\n",
       "    <tr>\n",
       "      <th>Electronic City</th>\n",
       "      <td>676</td>\n",
       "      <td>570</td>\n",
       "    </tr>\n",
       "    <tr>\n",
       "      <th>Frazer Town</th>\n",
       "      <td>287</td>\n",
       "      <td>427</td>\n",
       "    </tr>\n",
       "    <tr>\n",
       "      <th>HSR</th>\n",
       "      <td>584</td>\n",
       "      <td>1910</td>\n",
       "    </tr>\n",
       "    <tr>\n",
       "      <th>Indiranagar</th>\n",
       "      <td>697</td>\n",
       "      <td>1329</td>\n",
       "    </tr>\n",
       "    <tr>\n",
       "      <th>JP Nagar</th>\n",
       "      <td>911</td>\n",
       "      <td>1307</td>\n",
       "    </tr>\n",
       "    <tr>\n",
       "      <th>Jayanagar</th>\n",
       "      <td>552</td>\n",
       "      <td>1364</td>\n",
       "    </tr>\n",
       "    <tr>\n",
       "      <th>Kalyan Nagar</th>\n",
       "      <td>350</td>\n",
       "      <td>491</td>\n",
       "    </tr>\n",
       "    <tr>\n",
       "      <th>Kammanahalli</th>\n",
       "      <td>264</td>\n",
       "      <td>375</td>\n",
       "    </tr>\n",
       "    <tr>\n",
       "      <th>Koramangala 1st Block</th>\n",
       "      <td>384</td>\n",
       "      <td>852</td>\n",
       "    </tr>\n",
       "    <tr>\n",
       "      <th>Koramangala 4th Block</th>\n",
       "      <td>459</td>\n",
       "      <td>558</td>\n",
       "    </tr>\n",
       "    <tr>\n",
       "      <th>Koramangala 5th Block</th>\n",
       "      <td>866</td>\n",
       "      <td>1613</td>\n",
       "    </tr>\n",
       "    <tr>\n",
       "      <th>Koramangala 6th Block</th>\n",
       "      <td>445</td>\n",
       "      <td>682</td>\n",
       "    </tr>\n",
       "    <tr>\n",
       "      <th>Koramangala 7th Block</th>\n",
       "      <td>389</td>\n",
       "      <td>785</td>\n",
       "    </tr>\n",
       "    <tr>\n",
       "      <th>Lavelle Road</th>\n",
       "      <td>315</td>\n",
       "      <td>203</td>\n",
       "    </tr>\n",
       "    <tr>\n",
       "      <th>MG Road</th>\n",
       "      <td>520</td>\n",
       "      <td>373</td>\n",
       "    </tr>\n",
       "    <tr>\n",
       "      <th>Malleshwaram</th>\n",
       "      <td>309</td>\n",
       "      <td>412</td>\n",
       "    </tr>\n",
       "    <tr>\n",
       "      <th>Marathahalli</th>\n",
       "      <td>701</td>\n",
       "      <td>1104</td>\n",
       "    </tr>\n",
       "    <tr>\n",
       "      <th>New BEL Road</th>\n",
       "      <td>255</td>\n",
       "      <td>389</td>\n",
       "    </tr>\n",
       "    <tr>\n",
       "      <th>Old Airport Road</th>\n",
       "      <td>221</td>\n",
       "      <td>216</td>\n",
       "    </tr>\n",
       "    <tr>\n",
       "      <th>Rajajinagar</th>\n",
       "      <td>286</td>\n",
       "      <td>305</td>\n",
       "    </tr>\n",
       "    <tr>\n",
       "      <th>Residency Road</th>\n",
       "      <td>424</td>\n",
       "      <td>247</td>\n",
       "    </tr>\n",
       "    <tr>\n",
       "      <th>Richmond Road</th>\n",
       "      <td>557</td>\n",
       "      <td>246</td>\n",
       "    </tr>\n",
       "    <tr>\n",
       "      <th>Sarjapur Road</th>\n",
       "      <td>323</td>\n",
       "      <td>724</td>\n",
       "    </tr>\n",
       "    <tr>\n",
       "      <th>Shanti Nagar</th>\n",
       "      <td>289</td>\n",
       "      <td>219</td>\n",
       "    </tr>\n",
       "    <tr>\n",
       "      <th>Shivajinagar</th>\n",
       "      <td>354</td>\n",
       "      <td>144</td>\n",
       "    </tr>\n",
       "    <tr>\n",
       "      <th>St. Marks Road</th>\n",
       "      <td>176</td>\n",
       "      <td>167</td>\n",
       "    </tr>\n",
       "    <tr>\n",
       "      <th>Ulsoor</th>\n",
       "      <td>389</td>\n",
       "      <td>622</td>\n",
       "    </tr>\n",
       "    <tr>\n",
       "      <th>Whitefield</th>\n",
       "      <td>986</td>\n",
       "      <td>1119</td>\n",
       "    </tr>\n",
       "    <tr>\n",
       "      <th>others</th>\n",
       "      <td>2064</td>\n",
       "      <td>2890</td>\n",
       "    </tr>\n",
       "  </tbody>\n",
       "</table>\n",
       "</div>"
      ],
      "text/plain": [
       "                       name      \n",
       "online_order             No   Yes\n",
       "location                         \n",
       "BTM                    1763  3293\n",
       "Banashankari            397   505\n",
       "Banaswadi               302   338\n",
       "Bannerghatta Road       685   924\n",
       "Basavanagudi            243   441\n",
       "Bellandur               517   751\n",
       "Brigade Road            552   658\n",
       "Brookefield             239   417\n",
       "Church Street           226   340\n",
       "Commercial Street       228   142\n",
       "Cunningham Road         168   322\n",
       "Domlur                  247   235\n",
       "Ejipura                 214   219\n",
       "Electronic City         676   570\n",
       "Frazer Town             287   427\n",
       "HSR                     584  1910\n",
       "Indiranagar             697  1329\n",
       "JP Nagar                911  1307\n",
       "Jayanagar               552  1364\n",
       "Kalyan Nagar            350   491\n",
       "Kammanahalli            264   375\n",
       "Koramangala 1st Block   384   852\n",
       "Koramangala 4th Block   459   558\n",
       "Koramangala 5th Block   866  1613\n",
       "Koramangala 6th Block   445   682\n",
       "Koramangala 7th Block   389   785\n",
       "Lavelle Road            315   203\n",
       "MG Road                 520   373\n",
       "Malleshwaram            309   412\n",
       "Marathahalli            701  1104\n",
       "New BEL Road            255   389\n",
       "Old Airport Road        221   216\n",
       "Rajajinagar             286   305\n",
       "Residency Road          424   247\n",
       "Richmond Road           557   246\n",
       "Sarjapur Road           323   724\n",
       "Shanti Nagar            289   219\n",
       "Shivajinagar            354   144\n",
       "St. Marks Road          176   167\n",
       "Ulsoor                  389   622\n",
       "Whitefield              986  1119\n",
       "others                 2064  2890"
      ]
     },
     "execution_count": 64,
     "metadata": {},
     "output_type": "execute_result"
    }
   ],
   "source": [
    "df1 = df.groupby(['location','online_order'])['name'].count()\n",
    "df1.to_csv('location_online.csv')\n",
    "df1 = pd.read_csv('location_online.csv')\n",
    "df1 = pd.pivot_table(df1, values=None, index=['location'], columns=['online_order'], fill_value=0, aggfunc=np.sum)\n",
    "df1"
   ]
  },
  {
   "cell_type": "code",
   "execution_count": 65,
   "id": "rocky-pixel",
   "metadata": {
    "papermill": {
     "duration": 0.786975,
     "end_time": "2021-06-01T09:54:02.668631",
     "exception": false,
     "start_time": "2021-06-01T09:54:01.881656",
     "status": "completed"
    },
    "tags": []
   },
   "outputs": [
    {
     "data": {
      "text/plain": [
       "<Axes: xlabel='location'>"
      ]
     },
     "execution_count": 65,
     "metadata": {},
     "output_type": "execute_result"
    },
    {
     "data": {
      "image/png": "[encoded data removed]",
      "text/plain": [
       "<Figure size 1500x800 with 1 Axes>"
      ]
     },
     "metadata": {},
     "output_type": "display_data"
    }
   ],
   "source": [
    "df1.plot(kind = 'bar', figsize = (15,8))"
   ]
  },
  {
   "cell_type": "markdown",
   "id": "automatic-trigger",
   "metadata": {
    "papermill": {
     "duration": 0.064557,
     "end_time": "2021-06-01T09:54:02.797131",
     "exception": false,
     "start_time": "2021-06-01T09:54:02.732574",
     "status": "completed"
    },
    "tags": []
   },
   "source": [
    "## Visualizing Book Table Facility, Location Wise"
   ]
  },
  {
   "cell_type": "code",
   "execution_count": 66,
   "id": "generous-burke",
   "metadata": {
    "papermill": {
     "duration": 0.112585,
     "end_time": "2021-06-01T09:54:02.974362",
     "exception": false,
     "start_time": "2021-06-01T09:54:02.861777",
     "status": "completed"
    },
    "tags": []
   },
   "outputs": [
    {
     "name": "stderr",
     "output_type": "stream",
     "text": [
      "C:\\Users\\bogoj\\AppData\\Local\\Temp\\ipykernel_23228\\814380054.py:4: FutureWarning: The provided callable <function sum at 0x000001BC482EE0C0> is currently using DataFrameGroupBy.sum. In a future version of pandas, the provided callable will be used directly. To keep current behavior pass the string \"sum\" instead.\n",
      "  df2 = pd.pivot_table(df2, values=None, index=['location'], columns=['book_table'], fill_value=0, aggfunc=np.sum)\n"
     ]
    },
    {
     "data": {
      "text/html": [
       "<div>\n",
       "<style scoped>\n",
       "    .dataframe tbody tr th:only-of-type {\n",
       "        vertical-align: middle;\n",
       "    }\n",
       "\n",
       "    .dataframe tbody tr th {\n",
       "        vertical-align: top;\n",
       "    }\n",
       "\n",
       "    .dataframe thead tr th {\n",
       "        text-align: left;\n",
       "    }\n",
       "\n",
       "    .dataframe thead tr:last-of-type th {\n",
       "        text-align: right;\n",
       "    }\n",
       "</style>\n",
       "<table border=\"1\" class=\"dataframe\">\n",
       "  <thead>\n",
       "    <tr>\n",
       "      <th></th>\n",
       "      <th colspan=\"2\" halign=\"left\">name</th>\n",
       "    </tr>\n",
       "    <tr>\n",
       "      <th>book_table</th>\n",
       "      <th>No</th>\n",
       "      <th>Yes</th>\n",
       "    </tr>\n",
       "    <tr>\n",
       "      <th>location</th>\n",
       "      <th></th>\n",
       "      <th></th>\n",
       "    </tr>\n",
       "  </thead>\n",
       "  <tbody>\n",
       "    <tr>\n",
       "      <th>BTM</th>\n",
       "      <td>4889</td>\n",
       "      <td>167</td>\n",
       "    </tr>\n",
       "    <tr>\n",
       "      <th>Banashankari</th>\n",
       "      <td>839</td>\n",
       "      <td>63</td>\n",
       "    </tr>\n",
       "    <tr>\n",
       "      <th>Banaswadi</th>\n",
       "      <td>632</td>\n",
       "      <td>8</td>\n",
       "    </tr>\n",
       "    <tr>\n",
       "      <th>Bannerghatta Road</th>\n",
       "      <td>1510</td>\n",
       "      <td>99</td>\n",
       "    </tr>\n",
       "    <tr>\n",
       "      <th>Basavanagudi</th>\n",
       "      <td>668</td>\n",
       "      <td>16</td>\n",
       "    </tr>\n",
       "    <tr>\n",
       "      <th>Bellandur</th>\n",
       "      <td>1170</td>\n",
       "      <td>98</td>\n",
       "    </tr>\n",
       "    <tr>\n",
       "      <th>Brigade Road</th>\n",
       "      <td>1034</td>\n",
       "      <td>176</td>\n",
       "    </tr>\n",
       "    <tr>\n",
       "      <th>Brookefield</th>\n",
       "      <td>582</td>\n",
       "      <td>74</td>\n",
       "    </tr>\n",
       "    <tr>\n",
       "      <th>Church Street</th>\n",
       "      <td>385</td>\n",
       "      <td>181</td>\n",
       "    </tr>\n",
       "    <tr>\n",
       "      <th>Commercial Street</th>\n",
       "      <td>370</td>\n",
       "      <td>0</td>\n",
       "    </tr>\n",
       "    <tr>\n",
       "      <th>Cunningham Road</th>\n",
       "      <td>315</td>\n",
       "      <td>175</td>\n",
       "    </tr>\n",
       "    <tr>\n",
       "      <th>Domlur</th>\n",
       "      <td>427</td>\n",
       "      <td>55</td>\n",
       "    </tr>\n",
       "    <tr>\n",
       "      <th>Ejipura</th>\n",
       "      <td>433</td>\n",
       "      <td>0</td>\n",
       "    </tr>\n",
       "    <tr>\n",
       "      <th>Electronic City</th>\n",
       "      <td>1148</td>\n",
       "      <td>98</td>\n",
       "    </tr>\n",
       "    <tr>\n",
       "      <th>Frazer Town</th>\n",
       "      <td>706</td>\n",
       "      <td>8</td>\n",
       "    </tr>\n",
       "    <tr>\n",
       "      <th>HSR</th>\n",
       "      <td>2277</td>\n",
       "      <td>217</td>\n",
       "    </tr>\n",
       "    <tr>\n",
       "      <th>Indiranagar</th>\n",
       "      <td>1578</td>\n",
       "      <td>448</td>\n",
       "    </tr>\n",
       "    <tr>\n",
       "      <th>JP Nagar</th>\n",
       "      <td>1903</td>\n",
       "      <td>315</td>\n",
       "    </tr>\n",
       "    <tr>\n",
       "      <th>Jayanagar</th>\n",
       "      <td>1637</td>\n",
       "      <td>279</td>\n",
       "    </tr>\n",
       "    <tr>\n",
       "      <th>Kalyan Nagar</th>\n",
       "      <td>692</td>\n",
       "      <td>149</td>\n",
       "    </tr>\n",
       "    <tr>\n",
       "      <th>Kammanahalli</th>\n",
       "      <td>590</td>\n",
       "      <td>49</td>\n",
       "    </tr>\n",
       "    <tr>\n",
       "      <th>Koramangala 1st Block</th>\n",
       "      <td>1186</td>\n",
       "      <td>50</td>\n",
       "    </tr>\n",
       "    <tr>\n",
       "      <th>Koramangala 4th Block</th>\n",
       "      <td>695</td>\n",
       "      <td>322</td>\n",
       "    </tr>\n",
       "    <tr>\n",
       "      <th>Koramangala 5th Block</th>\n",
       "      <td>1787</td>\n",
       "      <td>692</td>\n",
       "    </tr>\n",
       "    <tr>\n",
       "      <th>Koramangala 6th Block</th>\n",
       "      <td>1015</td>\n",
       "      <td>112</td>\n",
       "    </tr>\n",
       "    <tr>\n",
       "      <th>Koramangala 7th Block</th>\n",
       "      <td>1012</td>\n",
       "      <td>162</td>\n",
       "    </tr>\n",
       "    <tr>\n",
       "      <th>Lavelle Road</th>\n",
       "      <td>290</td>\n",
       "      <td>228</td>\n",
       "    </tr>\n",
       "    <tr>\n",
       "      <th>MG Road</th>\n",
       "      <td>546</td>\n",
       "      <td>347</td>\n",
       "    </tr>\n",
       "    <tr>\n",
       "      <th>Malleshwaram</th>\n",
       "      <td>632</td>\n",
       "      <td>89</td>\n",
       "    </tr>\n",
       "    <tr>\n",
       "      <th>Marathahalli</th>\n",
       "      <td>1642</td>\n",
       "      <td>163</td>\n",
       "    </tr>\n",
       "    <tr>\n",
       "      <th>New BEL Road</th>\n",
       "      <td>588</td>\n",
       "      <td>56</td>\n",
       "    </tr>\n",
       "    <tr>\n",
       "      <th>Old Airport Road</th>\n",
       "      <td>378</td>\n",
       "      <td>59</td>\n",
       "    </tr>\n",
       "    <tr>\n",
       "      <th>Rajajinagar</th>\n",
       "      <td>550</td>\n",
       "      <td>41</td>\n",
       "    </tr>\n",
       "    <tr>\n",
       "      <th>Residency Road</th>\n",
       "      <td>522</td>\n",
       "      <td>149</td>\n",
       "    </tr>\n",
       "    <tr>\n",
       "      <th>Richmond Road</th>\n",
       "      <td>687</td>\n",
       "      <td>116</td>\n",
       "    </tr>\n",
       "    <tr>\n",
       "      <th>Sarjapur Road</th>\n",
       "      <td>893</td>\n",
       "      <td>154</td>\n",
       "    </tr>\n",
       "    <tr>\n",
       "      <th>Shanti Nagar</th>\n",
       "      <td>451</td>\n",
       "      <td>57</td>\n",
       "    </tr>\n",
       "    <tr>\n",
       "      <th>Shivajinagar</th>\n",
       "      <td>475</td>\n",
       "      <td>23</td>\n",
       "    </tr>\n",
       "    <tr>\n",
       "      <th>St. Marks Road</th>\n",
       "      <td>219</td>\n",
       "      <td>124</td>\n",
       "    </tr>\n",
       "    <tr>\n",
       "      <th>Ulsoor</th>\n",
       "      <td>834</td>\n",
       "      <td>177</td>\n",
       "    </tr>\n",
       "    <tr>\n",
       "      <th>Whitefield</th>\n",
       "      <td>1852</td>\n",
       "      <td>253</td>\n",
       "    </tr>\n",
       "    <tr>\n",
       "      <th>others</th>\n",
       "      <td>4587</td>\n",
       "      <td>367</td>\n",
       "    </tr>\n",
       "  </tbody>\n",
       "</table>\n",
       "</div>"
      ],
      "text/plain": [
       "                       name     \n",
       "book_table               No  Yes\n",
       "location                        \n",
       "BTM                    4889  167\n",
       "Banashankari            839   63\n",
       "Banaswadi               632    8\n",
       "Bannerghatta Road      1510   99\n",
       "Basavanagudi            668   16\n",
       "Bellandur              1170   98\n",
       "Brigade Road           1034  176\n",
       "Brookefield             582   74\n",
       "Church Street           385  181\n",
       "Commercial Street       370    0\n",
       "Cunningham Road         315  175\n",
       "Domlur                  427   55\n",
       "Ejipura                 433    0\n",
       "Electronic City        1148   98\n",
       "Frazer Town             706    8\n",
       "HSR                    2277  217\n",
       "Indiranagar            1578  448\n",
       "JP Nagar               1903  315\n",
       "Jayanagar              1637  279\n",
       "Kalyan Nagar            692  149\n",
       "Kammanahalli            590   49\n",
       "Koramangala 1st Block  1186   50\n",
       "Koramangala 4th Block   695  322\n",
       "Koramangala 5th Block  1787  692\n",
       "Koramangala 6th Block  1015  112\n",
       "Koramangala 7th Block  1012  162\n",
       "Lavelle Road            290  228\n",
       "MG Road                 546  347\n",
       "Malleshwaram            632   89\n",
       "Marathahalli           1642  163\n",
       "New BEL Road            588   56\n",
       "Old Airport Road        378   59\n",
       "Rajajinagar             550   41\n",
       "Residency Road          522  149\n",
       "Richmond Road           687  116\n",
       "Sarjapur Road           893  154\n",
       "Shanti Nagar            451   57\n",
       "Shivajinagar            475   23\n",
       "St. Marks Road          219  124\n",
       "Ulsoor                  834  177\n",
       "Whitefield             1852  253\n",
       "others                 4587  367"
      ]
     },
     "execution_count": 66,
     "metadata": {},
     "output_type": "execute_result"
    }
   ],
   "source": [
    "df2 = df.groupby(['location','book_table'])['name'].count()\n",
    "df2.to_csv('location_booktable.csv')\n",
    "df2 = pd.read_csv('location_booktable.csv')\n",
    "df2 = pd.pivot_table(df2, values=None, index=['location'], columns=['book_table'], fill_value=0, aggfunc=np.sum)\n",
    "df2"
   ]
  },
  {
   "cell_type": "code",
   "execution_count": 67,
   "id": "emerging-trail",
   "metadata": {
    "papermill": {
     "duration": 0.777966,
     "end_time": "2021-06-01T09:54:03.817997",
     "exception": false,
     "start_time": "2021-06-01T09:54:03.040031",
     "status": "completed"
    },
    "tags": []
   },
   "outputs": [
    {
     "data": {
      "text/plain": [
       "<Axes: xlabel='location'>"
      ]
     },
     "execution_count": 67,
     "metadata": {},
     "output_type": "execute_result"
    },
    {
     "data": {
      "image/png": "[encoded data removed]",
      "text/plain": [
       "<Figure size 1500x800 with 1 Axes>"
      ]
     },
     "metadata": {},
     "output_type": "display_data"
    }
   ],
   "source": [
    "df2.plot(kind = 'bar', figsize = (15,8))"
   ]
  },
  {
   "cell_type": "markdown",
   "id": "collect-motivation",
   "metadata": {
    "papermill": {
     "duration": 0.066564,
     "end_time": "2021-06-01T09:54:03.951565",
     "exception": false,
     "start_time": "2021-06-01T09:54:03.885001",
     "status": "completed"
    },
    "tags": []
   },
   "source": [
    "## Visualizing Types of Restaurents vs Rate "
   ]
  },
  {
   "cell_type": "code",
   "execution_count": 68,
   "id": "studied-wildlife",
   "metadata": {
    "papermill": {
     "duration": 0.362541,
     "end_time": "2021-06-01T09:54:04.382775",
     "exception": false,
     "start_time": "2021-06-01T09:54:04.020234",
     "status": "completed"
    },
    "tags": []
   },
   "outputs": [
    {
     "name": "stderr",
     "output_type": "stream",
     "text": [
      "C:\\Users\\bogoj\\AppData\\Local\\Temp\\ipykernel_23228\\2234948669.py:2: FutureWarning: \n",
      "\n",
      "Passing `palette` without assigning `hue` is deprecated and will be removed in v0.14.0. Assign the `x` variable to `hue` and set `legend=False` for the same effect.\n",
      "\n",
      "  sns.boxplot(x = 'Type', y = 'rate', data = df, palette = 'inferno')\n"
     ]
    },
    {
     "data": {
      "text/plain": [
       "<Axes: xlabel='Type', ylabel='rate'>"
      ]
     },
     "execution_count": 68,
     "metadata": {},
     "output_type": "execute_result"
    },
    {
     "data": {
      "image/png": "[encoded data removed]",
      "text/plain": [
       "<Figure size 1400x800 with 1 Axes>"
      ]
     },
     "metadata": {},
     "output_type": "display_data"
    }
   ],
   "source": [
    "plt.figure(figsize = (14, 8))\n",
    "sns.boxplot(x = 'Type', y = 'rate', data = df, palette = 'inferno')"
   ]
  },
  {
   "cell_type": "markdown",
   "id": "sought-renaissance",
   "metadata": {
    "papermill": {
     "duration": 0.06771,
     "end_time": "2021-06-01T09:54:04.518455",
     "exception": false,
     "start_time": "2021-06-01T09:54:04.450745",
     "status": "completed"
    },
    "tags": []
   },
   "source": [
    "## Grouping Types of Restaurents, location wise"
   ]
  },
  {
   "cell_type": "code",
   "execution_count": 69,
   "id": "meaning-psychology",
   "metadata": {
    "papermill": {
     "duration": 0.124901,
     "end_time": "2021-06-01T09:54:04.711327",
     "exception": false,
     "start_time": "2021-06-01T09:54:04.586426",
     "status": "completed"
    },
    "tags": []
   },
   "outputs": [
    {
     "name": "stderr",
     "output_type": "stream",
     "text": [
      "C:\\Users\\bogoj\\AppData\\Local\\Temp\\ipykernel_23228\\1140243432.py:4: FutureWarning: The provided callable <function sum at 0x000001BC482EE0C0> is currently using DataFrameGroupBy.sum. In a future version of pandas, the provided callable will be used directly. To keep current behavior pass the string \"sum\" instead.\n",
      "  df3 = pd.pivot_table(df3, values=None, index=['location'], columns=['Type'], fill_value=0, aggfunc=np.sum)\n"
     ]
    },
    {
     "data": {
      "text/html": [
       "<div>\n",
       "<style scoped>\n",
       "    .dataframe tbody tr th:only-of-type {\n",
       "        vertical-align: middle;\n",
       "    }\n",
       "\n",
       "    .dataframe tbody tr th {\n",
       "        vertical-align: top;\n",
       "    }\n",
       "\n",
       "    .dataframe thead tr th {\n",
       "        text-align: left;\n",
       "    }\n",
       "\n",
       "    .dataframe thead tr:last-of-type th {\n",
       "        text-align: right;\n",
       "    }\n",
       "</style>\n",
       "<table border=\"1\" class=\"dataframe\">\n",
       "  <thead>\n",
       "    <tr>\n",
       "      <th></th>\n",
       "      <th colspan=\"7\" halign=\"left\">name</th>\n",
       "    </tr>\n",
       "    <tr>\n",
       "      <th>Type</th>\n",
       "      <th>Buffet</th>\n",
       "      <th>Cafes</th>\n",
       "      <th>Delivery</th>\n",
       "      <th>Desserts</th>\n",
       "      <th>Dine-out</th>\n",
       "      <th>Drinks &amp; nightlife</th>\n",
       "      <th>Pubs and bars</th>\n",
       "    </tr>\n",
       "    <tr>\n",
       "      <th>location</th>\n",
       "      <th></th>\n",
       "      <th></th>\n",
       "      <th></th>\n",
       "      <th></th>\n",
       "      <th></th>\n",
       "      <th></th>\n",
       "      <th></th>\n",
       "    </tr>\n",
       "  </thead>\n",
       "  <tbody>\n",
       "    <tr>\n",
       "      <th>BTM</th>\n",
       "      <td>21</td>\n",
       "      <td>83</td>\n",
       "      <td>3053</td>\n",
       "      <td>198</td>\n",
       "      <td>1660</td>\n",
       "      <td>22</td>\n",
       "      <td>19</td>\n",
       "    </tr>\n",
       "    <tr>\n",
       "      <th>Banashankari</th>\n",
       "      <td>7</td>\n",
       "      <td>36</td>\n",
       "      <td>418</td>\n",
       "      <td>71</td>\n",
       "      <td>356</td>\n",
       "      <td>14</td>\n",
       "      <td>0</td>\n",
       "    </tr>\n",
       "    <tr>\n",
       "      <th>Banaswadi</th>\n",
       "      <td>0</td>\n",
       "      <td>24</td>\n",
       "      <td>310</td>\n",
       "      <td>37</td>\n",
       "      <td>262</td>\n",
       "      <td>6</td>\n",
       "      <td>1</td>\n",
       "    </tr>\n",
       "    <tr>\n",
       "      <th>Bannerghatta Road</th>\n",
       "      <td>9</td>\n",
       "      <td>46</td>\n",
       "      <td>828</td>\n",
       "      <td>137</td>\n",
       "      <td>578</td>\n",
       "      <td>9</td>\n",
       "      <td>2</td>\n",
       "    </tr>\n",
       "    <tr>\n",
       "      <th>Basavanagudi</th>\n",
       "      <td>7</td>\n",
       "      <td>11</td>\n",
       "      <td>344</td>\n",
       "      <td>66</td>\n",
       "      <td>251</td>\n",
       "      <td>5</td>\n",
       "      <td>0</td>\n",
       "    </tr>\n",
       "    <tr>\n",
       "      <th>Bellandur</th>\n",
       "      <td>28</td>\n",
       "      <td>36</td>\n",
       "      <td>617</td>\n",
       "      <td>75</td>\n",
       "      <td>479</td>\n",
       "      <td>17</td>\n",
       "      <td>16</td>\n",
       "    </tr>\n",
       "    <tr>\n",
       "      <th>Brigade Road</th>\n",
       "      <td>25</td>\n",
       "      <td>46</td>\n",
       "      <td>497</td>\n",
       "      <td>108</td>\n",
       "      <td>455</td>\n",
       "      <td>57</td>\n",
       "      <td>22</td>\n",
       "    </tr>\n",
       "    <tr>\n",
       "      <th>Brookefield</th>\n",
       "      <td>6</td>\n",
       "      <td>17</td>\n",
       "      <td>339</td>\n",
       "      <td>45</td>\n",
       "      <td>245</td>\n",
       "      <td>4</td>\n",
       "      <td>0</td>\n",
       "    </tr>\n",
       "    <tr>\n",
       "      <th>Church Street</th>\n",
       "      <td>19</td>\n",
       "      <td>51</td>\n",
       "      <td>193</td>\n",
       "      <td>29</td>\n",
       "      <td>215</td>\n",
       "      <td>36</td>\n",
       "      <td>23</td>\n",
       "    </tr>\n",
       "    <tr>\n",
       "      <th>Commercial Street</th>\n",
       "      <td>0</td>\n",
       "      <td>13</td>\n",
       "      <td>121</td>\n",
       "      <td>77</td>\n",
       "      <td>159</td>\n",
       "      <td>0</td>\n",
       "      <td>0</td>\n",
       "    </tr>\n",
       "    <tr>\n",
       "      <th>Cunningham Road</th>\n",
       "      <td>29</td>\n",
       "      <td>34</td>\n",
       "      <td>194</td>\n",
       "      <td>26</td>\n",
       "      <td>184</td>\n",
       "      <td>16</td>\n",
       "      <td>7</td>\n",
       "    </tr>\n",
       "    <tr>\n",
       "      <th>Domlur</th>\n",
       "      <td>15</td>\n",
       "      <td>13</td>\n",
       "      <td>261</td>\n",
       "      <td>35</td>\n",
       "      <td>135</td>\n",
       "      <td>12</td>\n",
       "      <td>11</td>\n",
       "    </tr>\n",
       "    <tr>\n",
       "      <th>Ejipura</th>\n",
       "      <td>0</td>\n",
       "      <td>0</td>\n",
       "      <td>245</td>\n",
       "      <td>16</td>\n",
       "      <td>172</td>\n",
       "      <td>0</td>\n",
       "      <td>0</td>\n",
       "    </tr>\n",
       "    <tr>\n",
       "      <th>Electronic City</th>\n",
       "      <td>23</td>\n",
       "      <td>24</td>\n",
       "      <td>570</td>\n",
       "      <td>71</td>\n",
       "      <td>516</td>\n",
       "      <td>21</td>\n",
       "      <td>21</td>\n",
       "    </tr>\n",
       "    <tr>\n",
       "      <th>Frazer Town</th>\n",
       "      <td>1</td>\n",
       "      <td>11</td>\n",
       "      <td>470</td>\n",
       "      <td>56</td>\n",
       "      <td>172</td>\n",
       "      <td>2</td>\n",
       "      <td>2</td>\n",
       "    </tr>\n",
       "    <tr>\n",
       "      <th>HSR</th>\n",
       "      <td>19</td>\n",
       "      <td>49</td>\n",
       "      <td>1694</td>\n",
       "      <td>120</td>\n",
       "      <td>580</td>\n",
       "      <td>14</td>\n",
       "      <td>18</td>\n",
       "    </tr>\n",
       "    <tr>\n",
       "      <th>Indiranagar</th>\n",
       "      <td>38</td>\n",
       "      <td>97</td>\n",
       "      <td>1091</td>\n",
       "      <td>140</td>\n",
       "      <td>529</td>\n",
       "      <td>65</td>\n",
       "      <td>66</td>\n",
       "    </tr>\n",
       "    <tr>\n",
       "      <th>JP Nagar</th>\n",
       "      <td>45</td>\n",
       "      <td>76</td>\n",
       "      <td>1151</td>\n",
       "      <td>166</td>\n",
       "      <td>722</td>\n",
       "      <td>51</td>\n",
       "      <td>7</td>\n",
       "    </tr>\n",
       "    <tr>\n",
       "      <th>Jayanagar</th>\n",
       "      <td>27</td>\n",
       "      <td>77</td>\n",
       "      <td>1043</td>\n",
       "      <td>182</td>\n",
       "      <td>575</td>\n",
       "      <td>12</td>\n",
       "      <td>0</td>\n",
       "    </tr>\n",
       "    <tr>\n",
       "      <th>Kalyan Nagar</th>\n",
       "      <td>9</td>\n",
       "      <td>45</td>\n",
       "      <td>366</td>\n",
       "      <td>88</td>\n",
       "      <td>315</td>\n",
       "      <td>18</td>\n",
       "      <td>0</td>\n",
       "    </tr>\n",
       "    <tr>\n",
       "      <th>Kammanahalli</th>\n",
       "      <td>2</td>\n",
       "      <td>27</td>\n",
       "      <td>329</td>\n",
       "      <td>35</td>\n",
       "      <td>240</td>\n",
       "      <td>6</td>\n",
       "      <td>0</td>\n",
       "    </tr>\n",
       "    <tr>\n",
       "      <th>Koramangala 1st Block</th>\n",
       "      <td>3</td>\n",
       "      <td>26</td>\n",
       "      <td>716</td>\n",
       "      <td>70</td>\n",
       "      <td>398</td>\n",
       "      <td>7</td>\n",
       "      <td>16</td>\n",
       "    </tr>\n",
       "    <tr>\n",
       "      <th>Koramangala 4th Block</th>\n",
       "      <td>21</td>\n",
       "      <td>53</td>\n",
       "      <td>464</td>\n",
       "      <td>81</td>\n",
       "      <td>302</td>\n",
       "      <td>62</td>\n",
       "      <td>34</td>\n",
       "    </tr>\n",
       "    <tr>\n",
       "      <th>Koramangala 5th Block</th>\n",
       "      <td>65</td>\n",
       "      <td>146</td>\n",
       "      <td>1075</td>\n",
       "      <td>209</td>\n",
       "      <td>842</td>\n",
       "      <td>84</td>\n",
       "      <td>58</td>\n",
       "    </tr>\n",
       "    <tr>\n",
       "      <th>Koramangala 6th Block</th>\n",
       "      <td>18</td>\n",
       "      <td>43</td>\n",
       "      <td>511</td>\n",
       "      <td>70</td>\n",
       "      <td>411</td>\n",
       "      <td>51</td>\n",
       "      <td>23</td>\n",
       "    </tr>\n",
       "    <tr>\n",
       "      <th>Koramangala 7th Block</th>\n",
       "      <td>25</td>\n",
       "      <td>52</td>\n",
       "      <td>503</td>\n",
       "      <td>127</td>\n",
       "      <td>417</td>\n",
       "      <td>25</td>\n",
       "      <td>25</td>\n",
       "    </tr>\n",
       "    <tr>\n",
       "      <th>Lavelle Road</th>\n",
       "      <td>30</td>\n",
       "      <td>27</td>\n",
       "      <td>127</td>\n",
       "      <td>50</td>\n",
       "      <td>191</td>\n",
       "      <td>59</td>\n",
       "      <td>34</td>\n",
       "    </tr>\n",
       "    <tr>\n",
       "      <th>MG Road</th>\n",
       "      <td>51</td>\n",
       "      <td>76</td>\n",
       "      <td>266</td>\n",
       "      <td>68</td>\n",
       "      <td>343</td>\n",
       "      <td>53</td>\n",
       "      <td>36</td>\n",
       "    </tr>\n",
       "    <tr>\n",
       "      <th>Malleshwaram</th>\n",
       "      <td>11</td>\n",
       "      <td>31</td>\n",
       "      <td>269</td>\n",
       "      <td>85</td>\n",
       "      <td>291</td>\n",
       "      <td>20</td>\n",
       "      <td>14</td>\n",
       "    </tr>\n",
       "    <tr>\n",
       "      <th>Marathahalli</th>\n",
       "      <td>34</td>\n",
       "      <td>32</td>\n",
       "      <td>980</td>\n",
       "      <td>105</td>\n",
       "      <td>630</td>\n",
       "      <td>22</td>\n",
       "      <td>2</td>\n",
       "    </tr>\n",
       "    <tr>\n",
       "      <th>New BEL Road</th>\n",
       "      <td>4</td>\n",
       "      <td>29</td>\n",
       "      <td>338</td>\n",
       "      <td>33</td>\n",
       "      <td>224</td>\n",
       "      <td>8</td>\n",
       "      <td>8</td>\n",
       "    </tr>\n",
       "    <tr>\n",
       "      <th>Old Airport Road</th>\n",
       "      <td>12</td>\n",
       "      <td>5</td>\n",
       "      <td>200</td>\n",
       "      <td>35</td>\n",
       "      <td>164</td>\n",
       "      <td>12</td>\n",
       "      <td>9</td>\n",
       "    </tr>\n",
       "    <tr>\n",
       "      <th>Rajajinagar</th>\n",
       "      <td>10</td>\n",
       "      <td>4</td>\n",
       "      <td>258</td>\n",
       "      <td>55</td>\n",
       "      <td>251</td>\n",
       "      <td>3</td>\n",
       "      <td>10</td>\n",
       "    </tr>\n",
       "    <tr>\n",
       "      <th>Residency Road</th>\n",
       "      <td>20</td>\n",
       "      <td>31</td>\n",
       "      <td>187</td>\n",
       "      <td>63</td>\n",
       "      <td>289</td>\n",
       "      <td>55</td>\n",
       "      <td>26</td>\n",
       "    </tr>\n",
       "    <tr>\n",
       "      <th>Richmond Road</th>\n",
       "      <td>63</td>\n",
       "      <td>21</td>\n",
       "      <td>257</td>\n",
       "      <td>78</td>\n",
       "      <td>356</td>\n",
       "      <td>16</td>\n",
       "      <td>12</td>\n",
       "    </tr>\n",
       "    <tr>\n",
       "      <th>Sarjapur Road</th>\n",
       "      <td>25</td>\n",
       "      <td>22</td>\n",
       "      <td>558</td>\n",
       "      <td>82</td>\n",
       "      <td>319</td>\n",
       "      <td>19</td>\n",
       "      <td>22</td>\n",
       "    </tr>\n",
       "    <tr>\n",
       "      <th>Shanti Nagar</th>\n",
       "      <td>9</td>\n",
       "      <td>22</td>\n",
       "      <td>198</td>\n",
       "      <td>39</td>\n",
       "      <td>229</td>\n",
       "      <td>9</td>\n",
       "      <td>2</td>\n",
       "    </tr>\n",
       "    <tr>\n",
       "      <th>Shivajinagar</th>\n",
       "      <td>6</td>\n",
       "      <td>17</td>\n",
       "      <td>143</td>\n",
       "      <td>37</td>\n",
       "      <td>280</td>\n",
       "      <td>7</td>\n",
       "      <td>8</td>\n",
       "    </tr>\n",
       "    <tr>\n",
       "      <th>St. Marks Road</th>\n",
       "      <td>5</td>\n",
       "      <td>10</td>\n",
       "      <td>111</td>\n",
       "      <td>10</td>\n",
       "      <td>145</td>\n",
       "      <td>40</td>\n",
       "      <td>22</td>\n",
       "    </tr>\n",
       "    <tr>\n",
       "      <th>Ulsoor</th>\n",
       "      <td>16</td>\n",
       "      <td>56</td>\n",
       "      <td>456</td>\n",
       "      <td>71</td>\n",
       "      <td>359</td>\n",
       "      <td>23</td>\n",
       "      <td>30</td>\n",
       "    </tr>\n",
       "    <tr>\n",
       "      <th>Whitefield</th>\n",
       "      <td>28</td>\n",
       "      <td>51</td>\n",
       "      <td>1041</td>\n",
       "      <td>137</td>\n",
       "      <td>768</td>\n",
       "      <td>47</td>\n",
       "      <td>33</td>\n",
       "    </tr>\n",
       "    <tr>\n",
       "      <th>others</th>\n",
       "      <td>83</td>\n",
       "      <td>133</td>\n",
       "      <td>2787</td>\n",
       "      <td>276</td>\n",
       "      <td>1553</td>\n",
       "      <td>75</td>\n",
       "      <td>47</td>\n",
       "    </tr>\n",
       "  </tbody>\n",
       "</table>\n",
       "</div>"
      ],
      "text/plain": [
       "                        name                                   \\\n",
       "Type                  Buffet Cafes Delivery Desserts Dine-out   \n",
       "location                                                        \n",
       "BTM                       21    83     3053      198     1660   \n",
       "Banashankari               7    36      418       71      356   \n",
       "Banaswadi                  0    24      310       37      262   \n",
       "Bannerghatta Road          9    46      828      137      578   \n",
       "Basavanagudi               7    11      344       66      251   \n",
       "Bellandur                 28    36      617       75      479   \n",
       "Brigade Road              25    46      497      108      455   \n",
       "Brookefield                6    17      339       45      245   \n",
       "Church Street             19    51      193       29      215   \n",
       "Commercial Street          0    13      121       77      159   \n",
       "Cunningham Road           29    34      194       26      184   \n",
       "Domlur                    15    13      261       35      135   \n",
       "Ejipura                    0     0      245       16      172   \n",
       "Electronic City           23    24      570       71      516   \n",
       "Frazer Town                1    11      470       56      172   \n",
       "HSR                       19    49     1694      120      580   \n",
       "Indiranagar               38    97     1091      140      529   \n",
       "JP Nagar                  45    76     1151      166      722   \n",
       "Jayanagar                 27    77     1043      182      575   \n",
       "Kalyan Nagar               9    45      366       88      315   \n",
       "Kammanahalli               2    27      329       35      240   \n",
       "Koramangala 1st Block      3    26      716       70      398   \n",
       "Koramangala 4th Block     21    53      464       81      302   \n",
       "Koramangala 5th Block     65   146     1075      209      842   \n",
       "Koramangala 6th Block     18    43      511       70      411   \n",
       "Koramangala 7th Block     25    52      503      127      417   \n",
       "Lavelle Road              30    27      127       50      191   \n",
       "MG Road                   51    76      266       68      343   \n",
       "Malleshwaram              11    31      269       85      291   \n",
       "Marathahalli              34    32      980      105      630   \n",
       "New BEL Road               4    29      338       33      224   \n",
       "Old Airport Road          12     5      200       35      164   \n",
       "Rajajinagar               10     4      258       55      251   \n",
       "Residency Road            20    31      187       63      289   \n",
       "Richmond Road             63    21      257       78      356   \n",
       "Sarjapur Road             25    22      558       82      319   \n",
       "Shanti Nagar               9    22      198       39      229   \n",
       "Shivajinagar               6    17      143       37      280   \n",
       "St. Marks Road             5    10      111       10      145   \n",
       "Ulsoor                    16    56      456       71      359   \n",
       "Whitefield                28    51     1041      137      768   \n",
       "others                    83   133     2787      276     1553   \n",
       "\n",
       "                                                        \n",
       "Type                  Drinks & nightlife Pubs and bars  \n",
       "location                                                \n",
       "BTM                                   22            19  \n",
       "Banashankari                          14             0  \n",
       "Banaswadi                              6             1  \n",
       "Bannerghatta Road                      9             2  \n",
       "Basavanagudi                           5             0  \n",
       "Bellandur                             17            16  \n",
       "Brigade Road                          57            22  \n",
       "Brookefield                            4             0  \n",
       "Church Street                         36            23  \n",
       "Commercial Street                      0             0  \n",
       "Cunningham Road                       16             7  \n",
       "Domlur                                12            11  \n",
       "Ejipura                                0             0  \n",
       "Electronic City                       21            21  \n",
       "Frazer Town                            2             2  \n",
       "HSR                                   14            18  \n",
       "Indiranagar                           65            66  \n",
       "JP Nagar                              51             7  \n",
       "Jayanagar                             12             0  \n",
       "Kalyan Nagar                          18             0  \n",
       "Kammanahalli                           6             0  \n",
       "Koramangala 1st Block                  7            16  \n",
       "Koramangala 4th Block                 62            34  \n",
       "Koramangala 5th Block                 84            58  \n",
       "Koramangala 6th Block                 51            23  \n",
       "Koramangala 7th Block                 25            25  \n",
       "Lavelle Road                          59            34  \n",
       "MG Road                               53            36  \n",
       "Malleshwaram                          20            14  \n",
       "Marathahalli                          22             2  \n",
       "New BEL Road                           8             8  \n",
       "Old Airport Road                      12             9  \n",
       "Rajajinagar                            3            10  \n",
       "Residency Road                        55            26  \n",
       "Richmond Road                         16            12  \n",
       "Sarjapur Road                         19            22  \n",
       "Shanti Nagar                           9             2  \n",
       "Shivajinagar                           7             8  \n",
       "St. Marks Road                        40            22  \n",
       "Ulsoor                                23            30  \n",
       "Whitefield                            47            33  \n",
       "others                                75            47  "
      ]
     },
     "execution_count": 69,
     "metadata": {},
     "output_type": "execute_result"
    }
   ],
   "source": [
    "df3 = df.groupby(['location','Type'])['name'].count()\n",
    "df3.to_csv('location_Type.csv')\n",
    "df3 = pd.read_csv('location_Type.csv')\n",
    "df3 = pd.pivot_table(df3, values=None, index=['location'], columns=['Type'], fill_value=0, aggfunc=np.sum)\n",
    "df3"
   ]
  },
  {
   "cell_type": "code",
   "execution_count": 70,
   "id": "expressed-happiness",
   "metadata": {
    "papermill": {
     "duration": 1.441312,
     "end_time": "2021-06-01T09:54:06.221466",
     "exception": false,
     "start_time": "2021-06-01T09:54:04.780154",
     "status": "completed"
    },
    "tags": []
   },
   "outputs": [
    {
     "data": {
      "text/plain": [
       "<Axes: xlabel='location'>"
      ]
     },
     "execution_count": 70,
     "metadata": {},
     "output_type": "execute_result"
    },
    {
     "data": {
      "image/png": "[encoded data removed]",
      "text/plain": [
       "<Figure size 3600x800 with 1 Axes>"
      ]
     },
     "metadata": {},
     "output_type": "display_data"
    }
   ],
   "source": [
    "df3.plot(kind = 'bar', figsize = (36,8))"
   ]
  },
  {
   "cell_type": "markdown",
   "id": "public-theory",
   "metadata": {
    "papermill": {
     "duration": 0.098341,
     "end_time": "2021-06-01T09:54:06.392675",
     "exception": false,
     "start_time": "2021-06-01T09:54:06.294334",
     "status": "completed"
    },
    "tags": []
   },
   "source": [
    "## No. of Votes, Location Wise"
   ]
  },
  {
   "cell_type": "code",
   "execution_count": 76,
   "id": "falling-battlefield",
   "metadata": {
    "papermill": {
     "duration": 0.102753,
     "end_time": "2021-06-01T09:54:06.567499",
     "exception": false,
     "start_time": "2021-06-01T09:54:06.464746",
     "status": "completed"
    },
    "tags": []
   },
   "outputs": [
    {
     "data": {
      "text/html": [
       "<div>\n",
       "<style scoped>\n",
       "    .dataframe tbody tr th:only-of-type {\n",
       "        vertical-align: middle;\n",
       "    }\n",
       "\n",
       "    .dataframe tbody tr th {\n",
       "        vertical-align: top;\n",
       "    }\n",
       "\n",
       "    .dataframe thead th {\n",
       "        text-align: right;\n",
       "    }\n",
       "</style>\n",
       "<table border=\"1\" class=\"dataframe\">\n",
       "  <thead>\n",
       "    <tr style=\"text-align: right;\">\n",
       "      <th></th>\n",
       "      <th>votes</th>\n",
       "    </tr>\n",
       "    <tr>\n",
       "      <th>location</th>\n",
       "      <th></th>\n",
       "    </tr>\n",
       "  </thead>\n",
       "  <tbody>\n",
       "    <tr>\n",
       "      <th>Koramangala 5th Block</th>\n",
       "      <td>2214083</td>\n",
       "    </tr>\n",
       "    <tr>\n",
       "      <th>Indiranagar</th>\n",
       "      <td>1165909</td>\n",
       "    </tr>\n",
       "    <tr>\n",
       "      <th>Koramangala 4th Block</th>\n",
       "      <td>685156</td>\n",
       "    </tr>\n",
       "    <tr>\n",
       "      <th>Church Street</th>\n",
       "      <td>590306</td>\n",
       "    </tr>\n",
       "    <tr>\n",
       "      <th>JP Nagar</th>\n",
       "      <td>586522</td>\n",
       "    </tr>\n",
       "  </tbody>\n",
       "</table>\n",
       "</div>"
      ],
      "text/plain": [
       "                         votes\n",
       "location                      \n",
       "Koramangala 5th Block  2214083\n",
       "Indiranagar            1165909\n",
       "Koramangala 4th Block   685156\n",
       "Church Street           590306\n",
       "JP Nagar                586522"
      ]
     },
     "execution_count": 76,
     "metadata": {},
     "output_type": "execute_result"
    }
   ],
   "source": [
    "df4 = df[['location', 'votes']]\n",
    "df4.drop_duplicates()\n",
    "df5 = df4.groupby(['location'])['votes'].sum()\n",
    "df5 = df5.to_frame()\n",
    "df5 = df5.sort_values('votes', ascending=False)\n",
    "df5.head()"
   ]
  },
  {
   "cell_type": "code",
   "execution_count": 77,
   "id": "studied-slovenia",
   "metadata": {
    "papermill": {
     "duration": 0.734685,
     "end_time": "2021-06-01T09:54:07.376138",
     "exception": false,
     "start_time": "2021-06-01T09:54:06.641453",
     "status": "completed"
    },
    "tags": []
   },
   "outputs": [
    {
     "ename": "SyntaxError",
     "evalue": "closing parenthesis ']' does not match opening parenthesis '(' (2366704917.py, line 2)",
     "output_type": "error",
     "traceback": [
      "\u001b[1;36m  Cell \u001b[1;32mIn[77], line 2\u001b[1;36m\u001b[0m\n\u001b[1;33m    sns.barplot(df5.index],df5['votes'])\u001b[0m\n\u001b[1;37m                         ^\u001b[0m\n\u001b[1;31mSyntaxError\u001b[0m\u001b[1;31m:\u001b[0m closing parenthesis ']' does not match opening parenthesis '('\n"
     ]
    }
   ],
   "source": [
    "plt.figure(figsize = (15,8))\n",
    "sns.barplot(df5.index],df5['votes'])\n",
    "plt.xticks(rotation = 90)"
   ]
  },
  {
   "cell_type": "code",
   "execution_count": 78,
   "id": "wooden-monday",
   "metadata": {
    "papermill": {
     "duration": 0.092587,
     "end_time": "2021-06-01T09:54:07.543845",
     "exception": false,
     "start_time": "2021-06-01T09:54:07.451258",
     "status": "completed"
    },
    "tags": []
   },
   "outputs": [
    {
     "data": {
      "text/html": [
       "<div>\n",
       "<style scoped>\n",
       "    .dataframe tbody tr th:only-of-type {\n",
       "        vertical-align: middle;\n",
       "    }\n",
       "\n",
       "    .dataframe tbody tr th {\n",
       "        vertical-align: top;\n",
       "    }\n",
       "\n",
       "    .dataframe thead th {\n",
       "        text-align: right;\n",
       "    }\n",
       "</style>\n",
       "<table border=\"1\" class=\"dataframe\">\n",
       "  <thead>\n",
       "    <tr style=\"text-align: right;\">\n",
       "      <th></th>\n",
       "      <th>name</th>\n",
       "      <th>online_order</th>\n",
       "      <th>book_table</th>\n",
       "      <th>rate</th>\n",
       "      <th>votes</th>\n",
       "      <th>location</th>\n",
       "      <th>rest_type</th>\n",
       "      <th>cuisines</th>\n",
       "      <th>Cost2plates</th>\n",
       "      <th>Type</th>\n",
       "    </tr>\n",
       "  </thead>\n",
       "  <tbody>\n",
       "    <tr>\n",
       "      <th>0</th>\n",
       "      <td>Jalsa</td>\n",
       "      <td>Yes</td>\n",
       "      <td>Yes</td>\n",
       "      <td>4.1</td>\n",
       "      <td>775</td>\n",
       "      <td>Banashankari</td>\n",
       "      <td>Casual Dining</td>\n",
       "      <td>North Indian, Mughlai, Chinese</td>\n",
       "      <td>800.0</td>\n",
       "      <td>Buffet</td>\n",
       "    </tr>\n",
       "    <tr>\n",
       "      <th>1</th>\n",
       "      <td>Spice Elephant</td>\n",
       "      <td>Yes</td>\n",
       "      <td>No</td>\n",
       "      <td>4.1</td>\n",
       "      <td>787</td>\n",
       "      <td>Banashankari</td>\n",
       "      <td>Casual Dining</td>\n",
       "      <td>others</td>\n",
       "      <td>800.0</td>\n",
       "      <td>Buffet</td>\n",
       "    </tr>\n",
       "    <tr>\n",
       "      <th>2</th>\n",
       "      <td>San Churro Cafe</td>\n",
       "      <td>Yes</td>\n",
       "      <td>No</td>\n",
       "      <td>3.8</td>\n",
       "      <td>918</td>\n",
       "      <td>Banashankari</td>\n",
       "      <td>others</td>\n",
       "      <td>others</td>\n",
       "      <td>800.0</td>\n",
       "      <td>Buffet</td>\n",
       "    </tr>\n",
       "    <tr>\n",
       "      <th>3</th>\n",
       "      <td>Addhuri Udupi Bhojana</td>\n",
       "      <td>No</td>\n",
       "      <td>No</td>\n",
       "      <td>3.7</td>\n",
       "      <td>88</td>\n",
       "      <td>Banashankari</td>\n",
       "      <td>Quick Bites</td>\n",
       "      <td>South Indian, North Indian</td>\n",
       "      <td>300.0</td>\n",
       "      <td>Buffet</td>\n",
       "    </tr>\n",
       "    <tr>\n",
       "      <th>4</th>\n",
       "      <td>Grand Village</td>\n",
       "      <td>No</td>\n",
       "      <td>No</td>\n",
       "      <td>3.8</td>\n",
       "      <td>166</td>\n",
       "      <td>Basavanagudi</td>\n",
       "      <td>Casual Dining</td>\n",
       "      <td>others</td>\n",
       "      <td>600.0</td>\n",
       "      <td>Buffet</td>\n",
       "    </tr>\n",
       "  </tbody>\n",
       "</table>\n",
       "</div>"
      ],
      "text/plain": [
       "                    name online_order book_table  rate  votes      location  \\\n",
       "0                  Jalsa          Yes        Yes   4.1    775  Banashankari   \n",
       "1         Spice Elephant          Yes         No   4.1    787  Banashankari   \n",
       "2        San Churro Cafe          Yes         No   3.8    918  Banashankari   \n",
       "3  Addhuri Udupi Bhojana           No         No   3.7     88  Banashankari   \n",
       "4          Grand Village           No         No   3.8    166  Basavanagudi   \n",
       "\n",
       "       rest_type                        cuisines  Cost2plates    Type  \n",
       "0  Casual Dining  North Indian, Mughlai, Chinese        800.0  Buffet  \n",
       "1  Casual Dining                          others        800.0  Buffet  \n",
       "2         others                          others        800.0  Buffet  \n",
       "3    Quick Bites      South Indian, North Indian        300.0  Buffet  \n",
       "4  Casual Dining                          others        600.0  Buffet  "
      ]
     },
     "execution_count": 78,
     "metadata": {},
     "output_type": "execute_result"
    }
   ],
   "source": [
    "df.head()"
   ]
  },
  {
   "cell_type": "markdown",
   "id": "comfortable-comparative",
   "metadata": {
    "papermill": {
     "duration": 0.074452,
     "end_time": "2021-06-01T09:54:07.692793",
     "exception": false,
     "start_time": "2021-06-01T09:54:07.618341",
     "status": "completed"
    },
    "tags": []
   },
   "source": [
    "## Visualizing Top Cuisines"
   ]
  },
  {
   "cell_type": "code",
   "execution_count": 79,
   "id": "positive-snowboard",
   "metadata": {
    "papermill": {
     "duration": 0.103319,
     "end_time": "2021-06-01T09:54:07.871769",
     "exception": false,
     "start_time": "2021-06-01T09:54:07.768450",
     "status": "completed"
    },
    "tags": []
   },
   "outputs": [
    {
     "data": {
      "text/html": [
       "<div>\n",
       "<style scoped>\n",
       "    .dataframe tbody tr th:only-of-type {\n",
       "        vertical-align: middle;\n",
       "    }\n",
       "\n",
       "    .dataframe tbody tr th {\n",
       "        vertical-align: top;\n",
       "    }\n",
       "\n",
       "    .dataframe thead th {\n",
       "        text-align: right;\n",
       "    }\n",
       "</style>\n",
       "<table border=\"1\" class=\"dataframe\">\n",
       "  <thead>\n",
       "    <tr style=\"text-align: right;\">\n",
       "      <th></th>\n",
       "      <th>votes</th>\n",
       "    </tr>\n",
       "    <tr>\n",
       "      <th>cuisines</th>\n",
       "      <th></th>\n",
       "    </tr>\n",
       "  </thead>\n",
       "  <tbody>\n",
       "    <tr>\n",
       "      <th>others</th>\n",
       "      <td>11542182</td>\n",
       "    </tr>\n",
       "    <tr>\n",
       "      <th>North Indian</th>\n",
       "      <td>516310</td>\n",
       "    </tr>\n",
       "    <tr>\n",
       "      <th>North Indian, Chinese</th>\n",
       "      <td>258225</td>\n",
       "    </tr>\n",
       "    <tr>\n",
       "      <th>South Indian</th>\n",
       "      <td>161975</td>\n",
       "    </tr>\n",
       "    <tr>\n",
       "      <th>North Indian, Mughlai</th>\n",
       "      <td>103706</td>\n",
       "    </tr>\n",
       "  </tbody>\n",
       "</table>\n",
       "</div>"
      ],
      "text/plain": [
       "                          votes\n",
       "cuisines                       \n",
       "others                 11542182\n",
       "North Indian             516310\n",
       "North Indian, Chinese    258225\n",
       "South Indian             161975\n",
       "North Indian, Mughlai    103706"
      ]
     },
     "execution_count": 79,
     "metadata": {},
     "output_type": "execute_result"
    }
   ],
   "source": [
    "df6 = df[['cuisines', 'votes']]\n",
    "df6.drop_duplicates()\n",
    "df7 = df6.groupby(['cuisines'])['votes'].sum()\n",
    "df7 = df7.to_frame()\n",
    "df7 = df7.sort_values('votes', ascending=False)\n",
    "df7.head()"
   ]
  },
  {
   "cell_type": "code",
   "execution_count": 80,
   "id": "reasonable-shape",
   "metadata": {
    "papermill": {
     "duration": 0.088597,
     "end_time": "2021-06-01T09:54:08.035049",
     "exception": false,
     "start_time": "2021-06-01T09:54:07.946452",
     "status": "completed"
    },
    "tags": []
   },
   "outputs": [
    {
     "data": {
      "text/html": [
       "<div>\n",
       "<style scoped>\n",
       "    .dataframe tbody tr th:only-of-type {\n",
       "        vertical-align: middle;\n",
       "    }\n",
       "\n",
       "    .dataframe tbody tr th {\n",
       "        vertical-align: top;\n",
       "    }\n",
       "\n",
       "    .dataframe thead th {\n",
       "        text-align: right;\n",
       "    }\n",
       "</style>\n",
       "<table border=\"1\" class=\"dataframe\">\n",
       "  <thead>\n",
       "    <tr style=\"text-align: right;\">\n",
       "      <th></th>\n",
       "      <th>votes</th>\n",
       "    </tr>\n",
       "    <tr>\n",
       "      <th>cuisines</th>\n",
       "      <th></th>\n",
       "    </tr>\n",
       "  </thead>\n",
       "  <tbody>\n",
       "    <tr>\n",
       "      <th>North Indian</th>\n",
       "      <td>516310</td>\n",
       "    </tr>\n",
       "    <tr>\n",
       "      <th>North Indian, Chinese</th>\n",
       "      <td>258225</td>\n",
       "    </tr>\n",
       "    <tr>\n",
       "      <th>South Indian</th>\n",
       "      <td>161975</td>\n",
       "    </tr>\n",
       "    <tr>\n",
       "      <th>North Indian, Mughlai</th>\n",
       "      <td>103706</td>\n",
       "    </tr>\n",
       "    <tr>\n",
       "      <th>Chinese</th>\n",
       "      <td>101728</td>\n",
       "    </tr>\n",
       "  </tbody>\n",
       "</table>\n",
       "</div>"
      ],
      "text/plain": [
       "                        votes\n",
       "cuisines                     \n",
       "North Indian           516310\n",
       "North Indian, Chinese  258225\n",
       "South Indian           161975\n",
       "North Indian, Mughlai  103706\n",
       "Chinese                101728"
      ]
     },
     "execution_count": 80,
     "metadata": {},
     "output_type": "execute_result"
    }
   ],
   "source": [
    "df7 = df7.iloc[1:, :]\n",
    "df7.head()"
   ]
  },
  {
   "cell_type": "code",
   "execution_count": 81,
   "id": "expired-effect",
   "metadata": {
    "papermill": {
     "duration": 1.600366,
     "end_time": "2021-06-01T09:54:09.711146",
     "exception": false,
     "start_time": "2021-06-01T09:54:08.110780",
     "status": "completed"
    },
    "tags": []
   },
   "outputs": [
    {
     "ename": "TypeError",
     "evalue": "barplot() takes from 0 to 1 positional arguments but 2 were given",
     "output_type": "error",
     "traceback": [
      "\u001b[1;31m---------------------------------------------------------------------------\u001b[0m",
      "\u001b[1;31mTypeError\u001b[0m                                 Traceback (most recent call last)",
      "Cell \u001b[1;32mIn[81], line 2\u001b[0m\n\u001b[0;32m      1\u001b[0m plt\u001b[38;5;241m.\u001b[39mfigure(figsize \u001b[38;5;241m=\u001b[39m (\u001b[38;5;241m15\u001b[39m,\u001b[38;5;241m8\u001b[39m))\n\u001b[1;32m----> 2\u001b[0m sns\u001b[38;5;241m.\u001b[39mbarplot(df7\u001b[38;5;241m.\u001b[39mindex , df7[\u001b[38;5;124m'\u001b[39m\u001b[38;5;124mvotes\u001b[39m\u001b[38;5;124m'\u001b[39m])\n\u001b[0;32m      3\u001b[0m plt\u001b[38;5;241m.\u001b[39mxticks(rotation \u001b[38;5;241m=\u001b[39m \u001b[38;5;241m90\u001b[39m)\n",
      "\u001b[1;31mTypeError\u001b[0m: barplot() takes from 0 to 1 positional arguments but 2 were given"
     ]
    },
    {
     "data": {
      "text/plain": [
       "<Figure size 1500x800 with 0 Axes>"
      ]
     },
     "metadata": {},
     "output_type": "display_data"
    }
   ],
   "source": [
    "plt.figure(figsize = (15,8))\n",
    "sns.barplot(df7.index , df7['votes'])\n",
    "plt.xticks(rotation = 90)"
   ]
  },
  {
   "cell_type": "code",
   "execution_count": null,
   "id": "operational-jaguar",
   "metadata": {
    "papermill": {
     "duration": 0.080221,
     "end_time": "2021-06-01T09:54:09.872102",
     "exception": false,
     "start_time": "2021-06-01T09:54:09.791881",
     "status": "completed"
    },
    "tags": []
   },
   "outputs": [],
   "source": []
  },
  {
   "cell_type": "code",
   "execution_count": null,
   "id": "fde72508-546b-422e-8dcd-c620be4372ee",
   "metadata": {},
   "outputs": [],
   "source": []
  },
  {
   "cell_type": "code",
   "execution_count": null,
   "id": "c0b9fed5-41b2-4894-af77-2e77fe27856b",
   "metadata": {},
   "outputs": [],
   "source": []
  },
  {
   "cell_type": "code",
   "execution_count": null,
   "id": "0535d3b9-14a8-4746-94c0-5ea288a6a4ad",
   "metadata": {},
   "outputs": [],
   "source": []
  },
  {
   "cell_type": "code",
   "execution_count": null,
   "id": "8161bad8-2981-4124-ba49-831f1fbf3250",
   "metadata": {},
   "outputs": [],
   "source": []
  },
  {
   "cell_type": "code",
   "execution_count": null,
   "id": "3e19cf7c-233e-45e8-b648-d1651eed7449",
   "metadata": {},
   "outputs": [],
   "source": []
  }
 ],
 "metadata": {
  "kernelspec": {
   "display_name": "Python 3 (ipykernel)",
   "language": "python",
   "name": "python3"
  },
  "language_info": {
   "codemirror_mode": {
    "name": "ipython",
    "version": 3
   },
   "file_extension": ".py",
   "mimetype": "text/x-python",
   "name": "python",
   "nbconvert_exporter": "python",
   "pygments_lexer": "ipython3",
   "version": "3.13.5"
  },
  "papermill": {
   "default_parameters": {},
   "duration": 36.668039,
   "end_time": "2021-06-01T09:54:10.763857",
   "environment_variables": {},
   "exception": null,
   "input_path": "__notebook__.ipynb",
   "output_path": "__notebook__.ipynb",
   "parameters": {},
   "start_time": "2021-06-01T09:53:34.095818",
   "version": "2.3.3"
  }
 },
 "nbformat": 4,
 "nbformat_minor": 5
}
